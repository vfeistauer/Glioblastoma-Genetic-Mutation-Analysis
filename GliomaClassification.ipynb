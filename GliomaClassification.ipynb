{
  "nbformat": 4,
  "nbformat_minor": 0,
  "metadata": {
    "colab": {
      "provenance": [],
      "mount_file_id": "1oCidoiQvdJfYi9HRNZUJPffgvDzvxK8k",
      "authorship_tag": "ABX9TyNCSR8eD/DK28KjK1prglY0",
      "include_colab_link": true
    },
    "kernelspec": {
      "name": "python3",
      "display_name": "Python 3"
    },
    "language_info": {
      "name": "python"
    }
  },
  "cells": [
    {
      "cell_type": "markdown",
      "metadata": {
        "id": "view-in-github",
        "colab_type": "text"
      },
      "source": [
        "<a href=\"https://colab.research.google.com/github/vfeistauer/Glioma-Classification/blob/main/GliomaClassification.ipynb\" target=\"_parent\"><img src=\"https://colab.research.google.com/assets/colab-badge.svg\" alt=\"Open In Colab\"/></a>"
      ]
    },
    {
      "cell_type": "markdown",
      "source": [
        "# Problem Definition:\n",
        "\n",
        "The \"Glioma Classification with Molecular Features\" project aims to develop a predictive model for accurate classification of gliomas into Lower-Grade Glioma (LGG) or Glioblastoma Multiforme (GBM) categories based on molecular and clinical attributes. LGGs, with WHO grades I and II, display slower growth and less aggressiveness compared to the highly aggressive WHO grade IV GBMs. The main objective is to identify key molecular genes and clinical features that contribute to precise glioma grading, enabling more informed treatment decisions. Specific goals include **exploratory data analysis, feature selection, model development, evaluation, hyperparameter tuning, and interpretation of results**. The dataset is funded by The Cancer Genome Atlas (TCGA) Project - NCI and acknowledges relevant research in the field."
      ],
      "metadata": {
        "id": "q-gLgS8dnVaM"
      }
    },
    {
      "cell_type": "markdown",
      "source": [
        "## DATA ACQUISITION:"
      ],
      "metadata": {
        "id": "IUHDKUQnoOTM"
      }
    },
    {
      "cell_type": "markdown",
      "source": [
        "## Import all libraries:"
      ],
      "metadata": {
        "id": "-3Rfop5uoRGY"
      }
    },
    {
      "cell_type": "code",
      "execution_count": null,
      "metadata": {
        "id": "AyxIAmviFh_P"
      },
      "outputs": [],
      "source": [
        "import pandas as pd\n",
        "import numpy as np\n",
        "import matplotlib.pyplot as plt\n",
        "import seaborn as sns\n",
        "%matplotlib inline"
      ]
    },
    {
      "cell_type": "markdown",
      "source": [
        "## Upload the Dataset:"
      ],
      "metadata": {
        "id": "WJoZiwOVoWs-"
      }
    },
    {
      "cell_type": "code",
      "source": [
        "df = pd.read_csv('/content/drive/MyDrive/DS/Glioblastome/TCGA_InfoWithGrade.csv')"
      ],
      "metadata": {
        "id": "f7JD5ePHHDtR"
      },
      "execution_count": null,
      "outputs": []
    },
    {
      "cell_type": "markdown",
      "source": [
        "##  EXPLORATORY DATA ANALYSIS AND DATA PREPROCESSING:"
      ],
      "metadata": {
        "id": "Q5VnP4k1ofPy"
      }
    },
    {
      "cell_type": "code",
      "source": [
        "df.head()"
      ],
      "metadata": {
        "colab": {
          "base_uri": "https://localhost:8080/",
          "height": 236
        },
        "id": "20yl8MJCHOaf",
        "outputId": "2d7ea478-3483-4b2a-e456-fe6e6483505f"
      },
      "execution_count": null,
      "outputs": [
        {
          "output_type": "execute_result",
          "data": {
            "text/plain": [
              "   Grade  Gender  Age_at_diagnosis  Race  IDH1  TP53  ATRX  PTEN  EGFR  CIC  \\\n",
              "0      0       0             51.30     0     1     0     0     0     0    0   \n",
              "1      0       0             38.72     0     1     0     0     0     0    1   \n",
              "2      0       0             35.17     0     1     1     1     0     0    0   \n",
              "3      0       1             32.78     0     1     1     1     0     0    0   \n",
              "4      0       0             31.51     0     1     1     1     0     0    0   \n",
              "\n",
              "   ...  FUBP1  RB1  NOTCH1  BCOR  CSMD3  SMARCA4  GRIN2A  IDH2  FAT4  PDGFRA  \n",
              "0  ...      1    0       0     0      0        0       0     0     0       0  \n",
              "1  ...      0    0       0     0      0        0       0     0     0       0  \n",
              "2  ...      0    0       0     0      0        0       0     0     0       0  \n",
              "3  ...      0    0       0     0      0        0       0     0     1       0  \n",
              "4  ...      0    0       0     0      0        0       0     0     0       0  \n",
              "\n",
              "[5 rows x 24 columns]"
            ],
            "text/html": [
              "\n",
              "  <div id=\"df-d1f32d93-a3e2-4e9e-b3f0-fc8a54deeccf\" class=\"colab-df-container\">\n",
              "    <div>\n",
              "<style scoped>\n",
              "    .dataframe tbody tr th:only-of-type {\n",
              "        vertical-align: middle;\n",
              "    }\n",
              "\n",
              "    .dataframe tbody tr th {\n",
              "        vertical-align: top;\n",
              "    }\n",
              "\n",
              "    .dataframe thead th {\n",
              "        text-align: right;\n",
              "    }\n",
              "</style>\n",
              "<table border=\"1\" class=\"dataframe\">\n",
              "  <thead>\n",
              "    <tr style=\"text-align: right;\">\n",
              "      <th></th>\n",
              "      <th>Grade</th>\n",
              "      <th>Gender</th>\n",
              "      <th>Age_at_diagnosis</th>\n",
              "      <th>Race</th>\n",
              "      <th>IDH1</th>\n",
              "      <th>TP53</th>\n",
              "      <th>ATRX</th>\n",
              "      <th>PTEN</th>\n",
              "      <th>EGFR</th>\n",
              "      <th>CIC</th>\n",
              "      <th>...</th>\n",
              "      <th>FUBP1</th>\n",
              "      <th>RB1</th>\n",
              "      <th>NOTCH1</th>\n",
              "      <th>BCOR</th>\n",
              "      <th>CSMD3</th>\n",
              "      <th>SMARCA4</th>\n",
              "      <th>GRIN2A</th>\n",
              "      <th>IDH2</th>\n",
              "      <th>FAT4</th>\n",
              "      <th>PDGFRA</th>\n",
              "    </tr>\n",
              "  </thead>\n",
              "  <tbody>\n",
              "    <tr>\n",
              "      <th>0</th>\n",
              "      <td>0</td>\n",
              "      <td>0</td>\n",
              "      <td>51.30</td>\n",
              "      <td>0</td>\n",
              "      <td>1</td>\n",
              "      <td>0</td>\n",
              "      <td>0</td>\n",
              "      <td>0</td>\n",
              "      <td>0</td>\n",
              "      <td>0</td>\n",
              "      <td>...</td>\n",
              "      <td>1</td>\n",
              "      <td>0</td>\n",
              "      <td>0</td>\n",
              "      <td>0</td>\n",
              "      <td>0</td>\n",
              "      <td>0</td>\n",
              "      <td>0</td>\n",
              "      <td>0</td>\n",
              "      <td>0</td>\n",
              "      <td>0</td>\n",
              "    </tr>\n",
              "    <tr>\n",
              "      <th>1</th>\n",
              "      <td>0</td>\n",
              "      <td>0</td>\n",
              "      <td>38.72</td>\n",
              "      <td>0</td>\n",
              "      <td>1</td>\n",
              "      <td>0</td>\n",
              "      <td>0</td>\n",
              "      <td>0</td>\n",
              "      <td>0</td>\n",
              "      <td>1</td>\n",
              "      <td>...</td>\n",
              "      <td>0</td>\n",
              "      <td>0</td>\n",
              "      <td>0</td>\n",
              "      <td>0</td>\n",
              "      <td>0</td>\n",
              "      <td>0</td>\n",
              "      <td>0</td>\n",
              "      <td>0</td>\n",
              "      <td>0</td>\n",
              "      <td>0</td>\n",
              "    </tr>\n",
              "    <tr>\n",
              "      <th>2</th>\n",
              "      <td>0</td>\n",
              "      <td>0</td>\n",
              "      <td>35.17</td>\n",
              "      <td>0</td>\n",
              "      <td>1</td>\n",
              "      <td>1</td>\n",
              "      <td>1</td>\n",
              "      <td>0</td>\n",
              "      <td>0</td>\n",
              "      <td>0</td>\n",
              "      <td>...</td>\n",
              "      <td>0</td>\n",
              "      <td>0</td>\n",
              "      <td>0</td>\n",
              "      <td>0</td>\n",
              "      <td>0</td>\n",
              "      <td>0</td>\n",
              "      <td>0</td>\n",
              "      <td>0</td>\n",
              "      <td>0</td>\n",
              "      <td>0</td>\n",
              "    </tr>\n",
              "    <tr>\n",
              "      <th>3</th>\n",
              "      <td>0</td>\n",
              "      <td>1</td>\n",
              "      <td>32.78</td>\n",
              "      <td>0</td>\n",
              "      <td>1</td>\n",
              "      <td>1</td>\n",
              "      <td>1</td>\n",
              "      <td>0</td>\n",
              "      <td>0</td>\n",
              "      <td>0</td>\n",
              "      <td>...</td>\n",
              "      <td>0</td>\n",
              "      <td>0</td>\n",
              "      <td>0</td>\n",
              "      <td>0</td>\n",
              "      <td>0</td>\n",
              "      <td>0</td>\n",
              "      <td>0</td>\n",
              "      <td>0</td>\n",
              "      <td>1</td>\n",
              "      <td>0</td>\n",
              "    </tr>\n",
              "    <tr>\n",
              "      <th>4</th>\n",
              "      <td>0</td>\n",
              "      <td>0</td>\n",
              "      <td>31.51</td>\n",
              "      <td>0</td>\n",
              "      <td>1</td>\n",
              "      <td>1</td>\n",
              "      <td>1</td>\n",
              "      <td>0</td>\n",
              "      <td>0</td>\n",
              "      <td>0</td>\n",
              "      <td>...</td>\n",
              "      <td>0</td>\n",
              "      <td>0</td>\n",
              "      <td>0</td>\n",
              "      <td>0</td>\n",
              "      <td>0</td>\n",
              "      <td>0</td>\n",
              "      <td>0</td>\n",
              "      <td>0</td>\n",
              "      <td>0</td>\n",
              "      <td>0</td>\n",
              "    </tr>\n",
              "  </tbody>\n",
              "</table>\n",
              "<p>5 rows × 24 columns</p>\n",
              "</div>\n",
              "    <div class=\"colab-df-buttons\">\n",
              "\n",
              "  <div class=\"colab-df-container\">\n",
              "    <button class=\"colab-df-convert\" onclick=\"convertToInteractive('df-d1f32d93-a3e2-4e9e-b3f0-fc8a54deeccf')\"\n",
              "            title=\"Convert this dataframe to an interactive table.\"\n",
              "            style=\"display:none;\">\n",
              "\n",
              "  <svg xmlns=\"http://www.w3.org/2000/svg\" height=\"24px\" viewBox=\"0 -960 960 960\">\n",
              "    <path d=\"M120-120v-720h720v720H120Zm60-500h600v-160H180v160Zm220 220h160v-160H400v160Zm0 220h160v-160H400v160ZM180-400h160v-160H180v160Zm440 0h160v-160H620v160ZM180-180h160v-160H180v160Zm440 0h160v-160H620v160Z\"/>\n",
              "  </svg>\n",
              "    </button>\n",
              "\n",
              "  <style>\n",
              "    .colab-df-container {\n",
              "      display:flex;\n",
              "      gap: 12px;\n",
              "    }\n",
              "\n",
              "    .colab-df-convert {\n",
              "      background-color: #E8F0FE;\n",
              "      border: none;\n",
              "      border-radius: 50%;\n",
              "      cursor: pointer;\n",
              "      display: none;\n",
              "      fill: #1967D2;\n",
              "      height: 32px;\n",
              "      padding: 0 0 0 0;\n",
              "      width: 32px;\n",
              "    }\n",
              "\n",
              "    .colab-df-convert:hover {\n",
              "      background-color: #E2EBFA;\n",
              "      box-shadow: 0px 1px 2px rgba(60, 64, 67, 0.3), 0px 1px 3px 1px rgba(60, 64, 67, 0.15);\n",
              "      fill: #174EA6;\n",
              "    }\n",
              "\n",
              "    .colab-df-buttons div {\n",
              "      margin-bottom: 4px;\n",
              "    }\n",
              "\n",
              "    [theme=dark] .colab-df-convert {\n",
              "      background-color: #3B4455;\n",
              "      fill: #D2E3FC;\n",
              "    }\n",
              "\n",
              "    [theme=dark] .colab-df-convert:hover {\n",
              "      background-color: #434B5C;\n",
              "      box-shadow: 0px 1px 3px 1px rgba(0, 0, 0, 0.15);\n",
              "      filter: drop-shadow(0px 1px 2px rgba(0, 0, 0, 0.3));\n",
              "      fill: #FFFFFF;\n",
              "    }\n",
              "  </style>\n",
              "\n",
              "    <script>\n",
              "      const buttonEl =\n",
              "        document.querySelector('#df-d1f32d93-a3e2-4e9e-b3f0-fc8a54deeccf button.colab-df-convert');\n",
              "      buttonEl.style.display =\n",
              "        google.colab.kernel.accessAllowed ? 'block' : 'none';\n",
              "\n",
              "      async function convertToInteractive(key) {\n",
              "        const element = document.querySelector('#df-d1f32d93-a3e2-4e9e-b3f0-fc8a54deeccf');\n",
              "        const dataTable =\n",
              "          await google.colab.kernel.invokeFunction('convertToInteractive',\n",
              "                                                    [key], {});\n",
              "        if (!dataTable) return;\n",
              "\n",
              "        const docLinkHtml = 'Like what you see? Visit the ' +\n",
              "          '<a target=\"_blank\" href=https://colab.research.google.com/notebooks/data_table.ipynb>data table notebook</a>'\n",
              "          + ' to learn more about interactive tables.';\n",
              "        element.innerHTML = '';\n",
              "        dataTable['output_type'] = 'display_data';\n",
              "        await google.colab.output.renderOutput(dataTable, element);\n",
              "        const docLink = document.createElement('div');\n",
              "        docLink.innerHTML = docLinkHtml;\n",
              "        element.appendChild(docLink);\n",
              "      }\n",
              "    </script>\n",
              "  </div>\n",
              "\n",
              "\n",
              "<div id=\"df-4a675c3c-b770-4a96-a914-f4e682563549\">\n",
              "  <button class=\"colab-df-quickchart\" onclick=\"quickchart('df-4a675c3c-b770-4a96-a914-f4e682563549')\"\n",
              "            title=\"Suggest charts.\"\n",
              "            style=\"display:none;\">\n",
              "\n",
              "<svg xmlns=\"http://www.w3.org/2000/svg\" height=\"24px\"viewBox=\"0 0 24 24\"\n",
              "     width=\"24px\">\n",
              "    <g>\n",
              "        <path d=\"M19 3H5c-1.1 0-2 .9-2 2v14c0 1.1.9 2 2 2h14c1.1 0 2-.9 2-2V5c0-1.1-.9-2-2-2zM9 17H7v-7h2v7zm4 0h-2V7h2v10zm4 0h-2v-4h2v4z\"/>\n",
              "    </g>\n",
              "</svg>\n",
              "  </button>\n",
              "\n",
              "<style>\n",
              "  .colab-df-quickchart {\n",
              "      --bg-color: #E8F0FE;\n",
              "      --fill-color: #1967D2;\n",
              "      --hover-bg-color: #E2EBFA;\n",
              "      --hover-fill-color: #174EA6;\n",
              "      --disabled-fill-color: #AAA;\n",
              "      --disabled-bg-color: #DDD;\n",
              "  }\n",
              "\n",
              "  [theme=dark] .colab-df-quickchart {\n",
              "      --bg-color: #3B4455;\n",
              "      --fill-color: #D2E3FC;\n",
              "      --hover-bg-color: #434B5C;\n",
              "      --hover-fill-color: #FFFFFF;\n",
              "      --disabled-bg-color: #3B4455;\n",
              "      --disabled-fill-color: #666;\n",
              "  }\n",
              "\n",
              "  .colab-df-quickchart {\n",
              "    background-color: var(--bg-color);\n",
              "    border: none;\n",
              "    border-radius: 50%;\n",
              "    cursor: pointer;\n",
              "    display: none;\n",
              "    fill: var(--fill-color);\n",
              "    height: 32px;\n",
              "    padding: 0;\n",
              "    width: 32px;\n",
              "  }\n",
              "\n",
              "  .colab-df-quickchart:hover {\n",
              "    background-color: var(--hover-bg-color);\n",
              "    box-shadow: 0 1px 2px rgba(60, 64, 67, 0.3), 0 1px 3px 1px rgba(60, 64, 67, 0.15);\n",
              "    fill: var(--button-hover-fill-color);\n",
              "  }\n",
              "\n",
              "  .colab-df-quickchart-complete:disabled,\n",
              "  .colab-df-quickchart-complete:disabled:hover {\n",
              "    background-color: var(--disabled-bg-color);\n",
              "    fill: var(--disabled-fill-color);\n",
              "    box-shadow: none;\n",
              "  }\n",
              "\n",
              "  .colab-df-spinner {\n",
              "    border: 2px solid var(--fill-color);\n",
              "    border-color: transparent;\n",
              "    border-bottom-color: var(--fill-color);\n",
              "    animation:\n",
              "      spin 1s steps(1) infinite;\n",
              "  }\n",
              "\n",
              "  @keyframes spin {\n",
              "    0% {\n",
              "      border-color: transparent;\n",
              "      border-bottom-color: var(--fill-color);\n",
              "      border-left-color: var(--fill-color);\n",
              "    }\n",
              "    20% {\n",
              "      border-color: transparent;\n",
              "      border-left-color: var(--fill-color);\n",
              "      border-top-color: var(--fill-color);\n",
              "    }\n",
              "    30% {\n",
              "      border-color: transparent;\n",
              "      border-left-color: var(--fill-color);\n",
              "      border-top-color: var(--fill-color);\n",
              "      border-right-color: var(--fill-color);\n",
              "    }\n",
              "    40% {\n",
              "      border-color: transparent;\n",
              "      border-right-color: var(--fill-color);\n",
              "      border-top-color: var(--fill-color);\n",
              "    }\n",
              "    60% {\n",
              "      border-color: transparent;\n",
              "      border-right-color: var(--fill-color);\n",
              "    }\n",
              "    80% {\n",
              "      border-color: transparent;\n",
              "      border-right-color: var(--fill-color);\n",
              "      border-bottom-color: var(--fill-color);\n",
              "    }\n",
              "    90% {\n",
              "      border-color: transparent;\n",
              "      border-bottom-color: var(--fill-color);\n",
              "    }\n",
              "  }\n",
              "</style>\n",
              "\n",
              "  <script>\n",
              "    async function quickchart(key) {\n",
              "      const quickchartButtonEl =\n",
              "        document.querySelector('#' + key + ' button');\n",
              "      quickchartButtonEl.disabled = true;  // To prevent multiple clicks.\n",
              "      quickchartButtonEl.classList.add('colab-df-spinner');\n",
              "      try {\n",
              "        const charts = await google.colab.kernel.invokeFunction(\n",
              "            'suggestCharts', [key], {});\n",
              "      } catch (error) {\n",
              "        console.error('Error during call to suggestCharts:', error);\n",
              "      }\n",
              "      quickchartButtonEl.classList.remove('colab-df-spinner');\n",
              "      quickchartButtonEl.classList.add('colab-df-quickchart-complete');\n",
              "    }\n",
              "    (() => {\n",
              "      let quickchartButtonEl =\n",
              "        document.querySelector('#df-4a675c3c-b770-4a96-a914-f4e682563549 button');\n",
              "      quickchartButtonEl.style.display =\n",
              "        google.colab.kernel.accessAllowed ? 'block' : 'none';\n",
              "    })();\n",
              "  </script>\n",
              "</div>\n",
              "    </div>\n",
              "  </div>\n"
            ]
          },
          "metadata": {},
          "execution_count": 3
        }
      ]
    },
    {
      "cell_type": "code",
      "source": [
        "df.info()"
      ],
      "metadata": {
        "colab": {
          "base_uri": "https://localhost:8080/"
        },
        "id": "3eAf_ob-HmrS",
        "outputId": "3dc11f35-0b8b-4921-d98e-9435f920cd7c"
      },
      "execution_count": null,
      "outputs": [
        {
          "output_type": "stream",
          "name": "stdout",
          "text": [
            "<class 'pandas.core.frame.DataFrame'>\n",
            "RangeIndex: 839 entries, 0 to 838\n",
            "Data columns (total 24 columns):\n",
            " #   Column            Non-Null Count  Dtype  \n",
            "---  ------            --------------  -----  \n",
            " 0   Grade             839 non-null    int64  \n",
            " 1   Gender            839 non-null    int64  \n",
            " 2   Age_at_diagnosis  839 non-null    float64\n",
            " 3   Race              839 non-null    int64  \n",
            " 4   IDH1              839 non-null    int64  \n",
            " 5   TP53              839 non-null    int64  \n",
            " 6   ATRX              839 non-null    int64  \n",
            " 7   PTEN              839 non-null    int64  \n",
            " 8   EGFR              839 non-null    int64  \n",
            " 9   CIC               839 non-null    int64  \n",
            " 10  MUC16             839 non-null    int64  \n",
            " 11  PIK3CA            839 non-null    int64  \n",
            " 12  NF1               839 non-null    int64  \n",
            " 13  PIK3R1            839 non-null    int64  \n",
            " 14  FUBP1             839 non-null    int64  \n",
            " 15  RB1               839 non-null    int64  \n",
            " 16  NOTCH1            839 non-null    int64  \n",
            " 17  BCOR              839 non-null    int64  \n",
            " 18  CSMD3             839 non-null    int64  \n",
            " 19  SMARCA4           839 non-null    int64  \n",
            " 20  GRIN2A            839 non-null    int64  \n",
            " 21  IDH2              839 non-null    int64  \n",
            " 22  FAT4              839 non-null    int64  \n",
            " 23  PDGFRA            839 non-null    int64  \n",
            "dtypes: float64(1), int64(23)\n",
            "memory usage: 157.4 KB\n"
          ]
        }
      ]
    },
    {
      "cell_type": "code",
      "source": [
        "pd.set_option('display.max_columns', None)\n",
        "df.describe()"
      ],
      "metadata": {
        "colab": {
          "base_uri": "https://localhost:8080/",
          "height": 320
        },
        "id": "TRJTWKFtmZjm",
        "outputId": "40b70118-562b-402d-feb1-5abf11310a6c"
      },
      "execution_count": null,
      "outputs": [
        {
          "output_type": "execute_result",
          "data": {
            "text/plain": [
              "            Grade      Gender  Age_at_diagnosis        Race        IDH1  \\\n",
              "count  839.000000  839.000000        839.000000  839.000000  839.000000   \n",
              "mean     0.419547    0.418355         50.935411    0.107271    0.481526   \n",
              "std      0.493779    0.493583         15.702339    0.369392    0.499957   \n",
              "min      0.000000    0.000000         14.420000    0.000000    0.000000   \n",
              "25%      0.000000    0.000000         38.055000    0.000000    0.000000   \n",
              "50%      0.000000    0.000000         51.550000    0.000000    0.000000   \n",
              "75%      1.000000    1.000000         62.800000    0.000000    1.000000   \n",
              "max      1.000000    1.000000         89.290000    3.000000    1.000000   \n",
              "\n",
              "             TP53        ATRX        PTEN        EGFR         CIC       MUC16  \\\n",
              "count  839.000000  839.000000  839.000000  839.000000  839.000000  839.000000   \n",
              "mean     0.414779    0.258641    0.168057    0.133492    0.132300    0.116806   \n",
              "std      0.492978    0.438149    0.374140    0.340309    0.339019    0.321380   \n",
              "min      0.000000    0.000000    0.000000    0.000000    0.000000    0.000000   \n",
              "25%      0.000000    0.000000    0.000000    0.000000    0.000000    0.000000   \n",
              "50%      0.000000    0.000000    0.000000    0.000000    0.000000    0.000000   \n",
              "75%      1.000000    1.000000    0.000000    0.000000    0.000000    0.000000   \n",
              "max      1.000000    1.000000    1.000000    1.000000    1.000000    1.000000   \n",
              "\n",
              "           PIK3CA         NF1      PIK3R1       FUBP1         RB1      NOTCH1  \\\n",
              "count  839.000000  839.000000  839.000000  839.000000  839.000000  839.000000   \n",
              "mean     0.087008    0.079857    0.064362    0.053635    0.047676    0.045292   \n",
              "std      0.282015    0.271233    0.245544    0.225431    0.213206    0.208068   \n",
              "min      0.000000    0.000000    0.000000    0.000000    0.000000    0.000000   \n",
              "25%      0.000000    0.000000    0.000000    0.000000    0.000000    0.000000   \n",
              "50%      0.000000    0.000000    0.000000    0.000000    0.000000    0.000000   \n",
              "75%      0.000000    0.000000    0.000000    0.000000    0.000000    0.000000   \n",
              "max      1.000000    1.000000    1.000000    1.000000    1.000000    1.000000   \n",
              "\n",
              "             BCOR       CSMD3     SMARCA4      GRIN2A        IDH2        FAT4  \\\n",
              "count  839.000000  839.000000  839.000000  839.000000  839.000000  839.000000   \n",
              "mean     0.034565    0.032181    0.032181    0.032181    0.027414    0.027414   \n",
              "std      0.182784    0.176586    0.176586    0.176586    0.163383    0.163383   \n",
              "min      0.000000    0.000000    0.000000    0.000000    0.000000    0.000000   \n",
              "25%      0.000000    0.000000    0.000000    0.000000    0.000000    0.000000   \n",
              "50%      0.000000    0.000000    0.000000    0.000000    0.000000    0.000000   \n",
              "75%      0.000000    0.000000    0.000000    0.000000    0.000000    0.000000   \n",
              "max      1.000000    1.000000    1.000000    1.000000    1.000000    1.000000   \n",
              "\n",
              "           PDGFRA  \n",
              "count  839.000000  \n",
              "mean     0.026222  \n",
              "std      0.159889  \n",
              "min      0.000000  \n",
              "25%      0.000000  \n",
              "50%      0.000000  \n",
              "75%      0.000000  \n",
              "max      1.000000  "
            ],
            "text/html": [
              "\n",
              "  <div id=\"df-4dd7166d-0077-414c-b31a-72b042875838\" class=\"colab-df-container\">\n",
              "    <div>\n",
              "<style scoped>\n",
              "    .dataframe tbody tr th:only-of-type {\n",
              "        vertical-align: middle;\n",
              "    }\n",
              "\n",
              "    .dataframe tbody tr th {\n",
              "        vertical-align: top;\n",
              "    }\n",
              "\n",
              "    .dataframe thead th {\n",
              "        text-align: right;\n",
              "    }\n",
              "</style>\n",
              "<table border=\"1\" class=\"dataframe\">\n",
              "  <thead>\n",
              "    <tr style=\"text-align: right;\">\n",
              "      <th></th>\n",
              "      <th>Grade</th>\n",
              "      <th>Gender</th>\n",
              "      <th>Age_at_diagnosis</th>\n",
              "      <th>Race</th>\n",
              "      <th>IDH1</th>\n",
              "      <th>TP53</th>\n",
              "      <th>ATRX</th>\n",
              "      <th>PTEN</th>\n",
              "      <th>EGFR</th>\n",
              "      <th>CIC</th>\n",
              "      <th>MUC16</th>\n",
              "      <th>PIK3CA</th>\n",
              "      <th>NF1</th>\n",
              "      <th>PIK3R1</th>\n",
              "      <th>FUBP1</th>\n",
              "      <th>RB1</th>\n",
              "      <th>NOTCH1</th>\n",
              "      <th>BCOR</th>\n",
              "      <th>CSMD3</th>\n",
              "      <th>SMARCA4</th>\n",
              "      <th>GRIN2A</th>\n",
              "      <th>IDH2</th>\n",
              "      <th>FAT4</th>\n",
              "      <th>PDGFRA</th>\n",
              "    </tr>\n",
              "  </thead>\n",
              "  <tbody>\n",
              "    <tr>\n",
              "      <th>count</th>\n",
              "      <td>839.000000</td>\n",
              "      <td>839.000000</td>\n",
              "      <td>839.000000</td>\n",
              "      <td>839.000000</td>\n",
              "      <td>839.000000</td>\n",
              "      <td>839.000000</td>\n",
              "      <td>839.000000</td>\n",
              "      <td>839.000000</td>\n",
              "      <td>839.000000</td>\n",
              "      <td>839.000000</td>\n",
              "      <td>839.000000</td>\n",
              "      <td>839.000000</td>\n",
              "      <td>839.000000</td>\n",
              "      <td>839.000000</td>\n",
              "      <td>839.000000</td>\n",
              "      <td>839.000000</td>\n",
              "      <td>839.000000</td>\n",
              "      <td>839.000000</td>\n",
              "      <td>839.000000</td>\n",
              "      <td>839.000000</td>\n",
              "      <td>839.000000</td>\n",
              "      <td>839.000000</td>\n",
              "      <td>839.000000</td>\n",
              "      <td>839.000000</td>\n",
              "    </tr>\n",
              "    <tr>\n",
              "      <th>mean</th>\n",
              "      <td>0.419547</td>\n",
              "      <td>0.418355</td>\n",
              "      <td>50.935411</td>\n",
              "      <td>0.107271</td>\n",
              "      <td>0.481526</td>\n",
              "      <td>0.414779</td>\n",
              "      <td>0.258641</td>\n",
              "      <td>0.168057</td>\n",
              "      <td>0.133492</td>\n",
              "      <td>0.132300</td>\n",
              "      <td>0.116806</td>\n",
              "      <td>0.087008</td>\n",
              "      <td>0.079857</td>\n",
              "      <td>0.064362</td>\n",
              "      <td>0.053635</td>\n",
              "      <td>0.047676</td>\n",
              "      <td>0.045292</td>\n",
              "      <td>0.034565</td>\n",
              "      <td>0.032181</td>\n",
              "      <td>0.032181</td>\n",
              "      <td>0.032181</td>\n",
              "      <td>0.027414</td>\n",
              "      <td>0.027414</td>\n",
              "      <td>0.026222</td>\n",
              "    </tr>\n",
              "    <tr>\n",
              "      <th>std</th>\n",
              "      <td>0.493779</td>\n",
              "      <td>0.493583</td>\n",
              "      <td>15.702339</td>\n",
              "      <td>0.369392</td>\n",
              "      <td>0.499957</td>\n",
              "      <td>0.492978</td>\n",
              "      <td>0.438149</td>\n",
              "      <td>0.374140</td>\n",
              "      <td>0.340309</td>\n",
              "      <td>0.339019</td>\n",
              "      <td>0.321380</td>\n",
              "      <td>0.282015</td>\n",
              "      <td>0.271233</td>\n",
              "      <td>0.245544</td>\n",
              "      <td>0.225431</td>\n",
              "      <td>0.213206</td>\n",
              "      <td>0.208068</td>\n",
              "      <td>0.182784</td>\n",
              "      <td>0.176586</td>\n",
              "      <td>0.176586</td>\n",
              "      <td>0.176586</td>\n",
              "      <td>0.163383</td>\n",
              "      <td>0.163383</td>\n",
              "      <td>0.159889</td>\n",
              "    </tr>\n",
              "    <tr>\n",
              "      <th>min</th>\n",
              "      <td>0.000000</td>\n",
              "      <td>0.000000</td>\n",
              "      <td>14.420000</td>\n",
              "      <td>0.000000</td>\n",
              "      <td>0.000000</td>\n",
              "      <td>0.000000</td>\n",
              "      <td>0.000000</td>\n",
              "      <td>0.000000</td>\n",
              "      <td>0.000000</td>\n",
              "      <td>0.000000</td>\n",
              "      <td>0.000000</td>\n",
              "      <td>0.000000</td>\n",
              "      <td>0.000000</td>\n",
              "      <td>0.000000</td>\n",
              "      <td>0.000000</td>\n",
              "      <td>0.000000</td>\n",
              "      <td>0.000000</td>\n",
              "      <td>0.000000</td>\n",
              "      <td>0.000000</td>\n",
              "      <td>0.000000</td>\n",
              "      <td>0.000000</td>\n",
              "      <td>0.000000</td>\n",
              "      <td>0.000000</td>\n",
              "      <td>0.000000</td>\n",
              "    </tr>\n",
              "    <tr>\n",
              "      <th>25%</th>\n",
              "      <td>0.000000</td>\n",
              "      <td>0.000000</td>\n",
              "      <td>38.055000</td>\n",
              "      <td>0.000000</td>\n",
              "      <td>0.000000</td>\n",
              "      <td>0.000000</td>\n",
              "      <td>0.000000</td>\n",
              "      <td>0.000000</td>\n",
              "      <td>0.000000</td>\n",
              "      <td>0.000000</td>\n",
              "      <td>0.000000</td>\n",
              "      <td>0.000000</td>\n",
              "      <td>0.000000</td>\n",
              "      <td>0.000000</td>\n",
              "      <td>0.000000</td>\n",
              "      <td>0.000000</td>\n",
              "      <td>0.000000</td>\n",
              "      <td>0.000000</td>\n",
              "      <td>0.000000</td>\n",
              "      <td>0.000000</td>\n",
              "      <td>0.000000</td>\n",
              "      <td>0.000000</td>\n",
              "      <td>0.000000</td>\n",
              "      <td>0.000000</td>\n",
              "    </tr>\n",
              "    <tr>\n",
              "      <th>50%</th>\n",
              "      <td>0.000000</td>\n",
              "      <td>0.000000</td>\n",
              "      <td>51.550000</td>\n",
              "      <td>0.000000</td>\n",
              "      <td>0.000000</td>\n",
              "      <td>0.000000</td>\n",
              "      <td>0.000000</td>\n",
              "      <td>0.000000</td>\n",
              "      <td>0.000000</td>\n",
              "      <td>0.000000</td>\n",
              "      <td>0.000000</td>\n",
              "      <td>0.000000</td>\n",
              "      <td>0.000000</td>\n",
              "      <td>0.000000</td>\n",
              "      <td>0.000000</td>\n",
              "      <td>0.000000</td>\n",
              "      <td>0.000000</td>\n",
              "      <td>0.000000</td>\n",
              "      <td>0.000000</td>\n",
              "      <td>0.000000</td>\n",
              "      <td>0.000000</td>\n",
              "      <td>0.000000</td>\n",
              "      <td>0.000000</td>\n",
              "      <td>0.000000</td>\n",
              "    </tr>\n",
              "    <tr>\n",
              "      <th>75%</th>\n",
              "      <td>1.000000</td>\n",
              "      <td>1.000000</td>\n",
              "      <td>62.800000</td>\n",
              "      <td>0.000000</td>\n",
              "      <td>1.000000</td>\n",
              "      <td>1.000000</td>\n",
              "      <td>1.000000</td>\n",
              "      <td>0.000000</td>\n",
              "      <td>0.000000</td>\n",
              "      <td>0.000000</td>\n",
              "      <td>0.000000</td>\n",
              "      <td>0.000000</td>\n",
              "      <td>0.000000</td>\n",
              "      <td>0.000000</td>\n",
              "      <td>0.000000</td>\n",
              "      <td>0.000000</td>\n",
              "      <td>0.000000</td>\n",
              "      <td>0.000000</td>\n",
              "      <td>0.000000</td>\n",
              "      <td>0.000000</td>\n",
              "      <td>0.000000</td>\n",
              "      <td>0.000000</td>\n",
              "      <td>0.000000</td>\n",
              "      <td>0.000000</td>\n",
              "    </tr>\n",
              "    <tr>\n",
              "      <th>max</th>\n",
              "      <td>1.000000</td>\n",
              "      <td>1.000000</td>\n",
              "      <td>89.290000</td>\n",
              "      <td>3.000000</td>\n",
              "      <td>1.000000</td>\n",
              "      <td>1.000000</td>\n",
              "      <td>1.000000</td>\n",
              "      <td>1.000000</td>\n",
              "      <td>1.000000</td>\n",
              "      <td>1.000000</td>\n",
              "      <td>1.000000</td>\n",
              "      <td>1.000000</td>\n",
              "      <td>1.000000</td>\n",
              "      <td>1.000000</td>\n",
              "      <td>1.000000</td>\n",
              "      <td>1.000000</td>\n",
              "      <td>1.000000</td>\n",
              "      <td>1.000000</td>\n",
              "      <td>1.000000</td>\n",
              "      <td>1.000000</td>\n",
              "      <td>1.000000</td>\n",
              "      <td>1.000000</td>\n",
              "      <td>1.000000</td>\n",
              "      <td>1.000000</td>\n",
              "    </tr>\n",
              "  </tbody>\n",
              "</table>\n",
              "</div>\n",
              "    <div class=\"colab-df-buttons\">\n",
              "\n",
              "  <div class=\"colab-df-container\">\n",
              "    <button class=\"colab-df-convert\" onclick=\"convertToInteractive('df-4dd7166d-0077-414c-b31a-72b042875838')\"\n",
              "            title=\"Convert this dataframe to an interactive table.\"\n",
              "            style=\"display:none;\">\n",
              "\n",
              "  <svg xmlns=\"http://www.w3.org/2000/svg\" height=\"24px\" viewBox=\"0 -960 960 960\">\n",
              "    <path d=\"M120-120v-720h720v720H120Zm60-500h600v-160H180v160Zm220 220h160v-160H400v160Zm0 220h160v-160H400v160ZM180-400h160v-160H180v160Zm440 0h160v-160H620v160ZM180-180h160v-160H180v160Zm440 0h160v-160H620v160Z\"/>\n",
              "  </svg>\n",
              "    </button>\n",
              "\n",
              "  <style>\n",
              "    .colab-df-container {\n",
              "      display:flex;\n",
              "      gap: 12px;\n",
              "    }\n",
              "\n",
              "    .colab-df-convert {\n",
              "      background-color: #E8F0FE;\n",
              "      border: none;\n",
              "      border-radius: 50%;\n",
              "      cursor: pointer;\n",
              "      display: none;\n",
              "      fill: #1967D2;\n",
              "      height: 32px;\n",
              "      padding: 0 0 0 0;\n",
              "      width: 32px;\n",
              "    }\n",
              "\n",
              "    .colab-df-convert:hover {\n",
              "      background-color: #E2EBFA;\n",
              "      box-shadow: 0px 1px 2px rgba(60, 64, 67, 0.3), 0px 1px 3px 1px rgba(60, 64, 67, 0.15);\n",
              "      fill: #174EA6;\n",
              "    }\n",
              "\n",
              "    .colab-df-buttons div {\n",
              "      margin-bottom: 4px;\n",
              "    }\n",
              "\n",
              "    [theme=dark] .colab-df-convert {\n",
              "      background-color: #3B4455;\n",
              "      fill: #D2E3FC;\n",
              "    }\n",
              "\n",
              "    [theme=dark] .colab-df-convert:hover {\n",
              "      background-color: #434B5C;\n",
              "      box-shadow: 0px 1px 3px 1px rgba(0, 0, 0, 0.15);\n",
              "      filter: drop-shadow(0px 1px 2px rgba(0, 0, 0, 0.3));\n",
              "      fill: #FFFFFF;\n",
              "    }\n",
              "  </style>\n",
              "\n",
              "    <script>\n",
              "      const buttonEl =\n",
              "        document.querySelector('#df-4dd7166d-0077-414c-b31a-72b042875838 button.colab-df-convert');\n",
              "      buttonEl.style.display =\n",
              "        google.colab.kernel.accessAllowed ? 'block' : 'none';\n",
              "\n",
              "      async function convertToInteractive(key) {\n",
              "        const element = document.querySelector('#df-4dd7166d-0077-414c-b31a-72b042875838');\n",
              "        const dataTable =\n",
              "          await google.colab.kernel.invokeFunction('convertToInteractive',\n",
              "                                                    [key], {});\n",
              "        if (!dataTable) return;\n",
              "\n",
              "        const docLinkHtml = 'Like what you see? Visit the ' +\n",
              "          '<a target=\"_blank\" href=https://colab.research.google.com/notebooks/data_table.ipynb>data table notebook</a>'\n",
              "          + ' to learn more about interactive tables.';\n",
              "        element.innerHTML = '';\n",
              "        dataTable['output_type'] = 'display_data';\n",
              "        await google.colab.output.renderOutput(dataTable, element);\n",
              "        const docLink = document.createElement('div');\n",
              "        docLink.innerHTML = docLinkHtml;\n",
              "        element.appendChild(docLink);\n",
              "      }\n",
              "    </script>\n",
              "  </div>\n",
              "\n",
              "\n",
              "<div id=\"df-5f6d337d-8dde-4d80-bb25-5662d1429893\">\n",
              "  <button class=\"colab-df-quickchart\" onclick=\"quickchart('df-5f6d337d-8dde-4d80-bb25-5662d1429893')\"\n",
              "            title=\"Suggest charts.\"\n",
              "            style=\"display:none;\">\n",
              "\n",
              "<svg xmlns=\"http://www.w3.org/2000/svg\" height=\"24px\"viewBox=\"0 0 24 24\"\n",
              "     width=\"24px\">\n",
              "    <g>\n",
              "        <path d=\"M19 3H5c-1.1 0-2 .9-2 2v14c0 1.1.9 2 2 2h14c1.1 0 2-.9 2-2V5c0-1.1-.9-2-2-2zM9 17H7v-7h2v7zm4 0h-2V7h2v10zm4 0h-2v-4h2v4z\"/>\n",
              "    </g>\n",
              "</svg>\n",
              "  </button>\n",
              "\n",
              "<style>\n",
              "  .colab-df-quickchart {\n",
              "      --bg-color: #E8F0FE;\n",
              "      --fill-color: #1967D2;\n",
              "      --hover-bg-color: #E2EBFA;\n",
              "      --hover-fill-color: #174EA6;\n",
              "      --disabled-fill-color: #AAA;\n",
              "      --disabled-bg-color: #DDD;\n",
              "  }\n",
              "\n",
              "  [theme=dark] .colab-df-quickchart {\n",
              "      --bg-color: #3B4455;\n",
              "      --fill-color: #D2E3FC;\n",
              "      --hover-bg-color: #434B5C;\n",
              "      --hover-fill-color: #FFFFFF;\n",
              "      --disabled-bg-color: #3B4455;\n",
              "      --disabled-fill-color: #666;\n",
              "  }\n",
              "\n",
              "  .colab-df-quickchart {\n",
              "    background-color: var(--bg-color);\n",
              "    border: none;\n",
              "    border-radius: 50%;\n",
              "    cursor: pointer;\n",
              "    display: none;\n",
              "    fill: var(--fill-color);\n",
              "    height: 32px;\n",
              "    padding: 0;\n",
              "    width: 32px;\n",
              "  }\n",
              "\n",
              "  .colab-df-quickchart:hover {\n",
              "    background-color: var(--hover-bg-color);\n",
              "    box-shadow: 0 1px 2px rgba(60, 64, 67, 0.3), 0 1px 3px 1px rgba(60, 64, 67, 0.15);\n",
              "    fill: var(--button-hover-fill-color);\n",
              "  }\n",
              "\n",
              "  .colab-df-quickchart-complete:disabled,\n",
              "  .colab-df-quickchart-complete:disabled:hover {\n",
              "    background-color: var(--disabled-bg-color);\n",
              "    fill: var(--disabled-fill-color);\n",
              "    box-shadow: none;\n",
              "  }\n",
              "\n",
              "  .colab-df-spinner {\n",
              "    border: 2px solid var(--fill-color);\n",
              "    border-color: transparent;\n",
              "    border-bottom-color: var(--fill-color);\n",
              "    animation:\n",
              "      spin 1s steps(1) infinite;\n",
              "  }\n",
              "\n",
              "  @keyframes spin {\n",
              "    0% {\n",
              "      border-color: transparent;\n",
              "      border-bottom-color: var(--fill-color);\n",
              "      border-left-color: var(--fill-color);\n",
              "    }\n",
              "    20% {\n",
              "      border-color: transparent;\n",
              "      border-left-color: var(--fill-color);\n",
              "      border-top-color: var(--fill-color);\n",
              "    }\n",
              "    30% {\n",
              "      border-color: transparent;\n",
              "      border-left-color: var(--fill-color);\n",
              "      border-top-color: var(--fill-color);\n",
              "      border-right-color: var(--fill-color);\n",
              "    }\n",
              "    40% {\n",
              "      border-color: transparent;\n",
              "      border-right-color: var(--fill-color);\n",
              "      border-top-color: var(--fill-color);\n",
              "    }\n",
              "    60% {\n",
              "      border-color: transparent;\n",
              "      border-right-color: var(--fill-color);\n",
              "    }\n",
              "    80% {\n",
              "      border-color: transparent;\n",
              "      border-right-color: var(--fill-color);\n",
              "      border-bottom-color: var(--fill-color);\n",
              "    }\n",
              "    90% {\n",
              "      border-color: transparent;\n",
              "      border-bottom-color: var(--fill-color);\n",
              "    }\n",
              "  }\n",
              "</style>\n",
              "\n",
              "  <script>\n",
              "    async function quickchart(key) {\n",
              "      const quickchartButtonEl =\n",
              "        document.querySelector('#' + key + ' button');\n",
              "      quickchartButtonEl.disabled = true;  // To prevent multiple clicks.\n",
              "      quickchartButtonEl.classList.add('colab-df-spinner');\n",
              "      try {\n",
              "        const charts = await google.colab.kernel.invokeFunction(\n",
              "            'suggestCharts', [key], {});\n",
              "      } catch (error) {\n",
              "        console.error('Error during call to suggestCharts:', error);\n",
              "      }\n",
              "      quickchartButtonEl.classList.remove('colab-df-spinner');\n",
              "      quickchartButtonEl.classList.add('colab-df-quickchart-complete');\n",
              "    }\n",
              "    (() => {\n",
              "      let quickchartButtonEl =\n",
              "        document.querySelector('#df-5f6d337d-8dde-4d80-bb25-5662d1429893 button');\n",
              "      quickchartButtonEl.style.display =\n",
              "        google.colab.kernel.accessAllowed ? 'block' : 'none';\n",
              "    })();\n",
              "  </script>\n",
              "</div>\n",
              "    </div>\n",
              "  </div>\n"
            ]
          },
          "metadata": {},
          "execution_count": 5
        }
      ]
    },
    {
      "cell_type": "markdown",
      "source": [
        "Todas as variáveis categóricas (mutações gênicas, gênero, raça e gradação do tumor) estão codificadas. A maioria das variáveis (exceto Race e Age_at_diagnosis) estão na mesma escala (entre 0 e 1). Apesar disso, **não serão escalonadas**, pois, em geral, o modelo de ML escolhido (XGBoost), é baseado em árvores de decisão, e pois isso, menos sensível à escala das variáveis numéricas em comparação com algoritmos como regressão linear. Árvores de decisão segmentam as variáveis com base em condições de desigualdade, tornando-as menos afetadas pelas magnitudes das variáveis."
      ],
      "metadata": {
        "id": "QvrOcVcwuCXR"
      }
    },
    {
      "cell_type": "code",
      "source": [
        "df.isnull().sum()"
      ],
      "metadata": {
        "colab": {
          "base_uri": "https://localhost:8080/"
        },
        "id": "jxRTr_O-Uhz7",
        "outputId": "f545dff7-85ba-4f2e-ae53-0eb0d71b9d23"
      },
      "execution_count": null,
      "outputs": [
        {
          "output_type": "execute_result",
          "data": {
            "text/plain": [
              "Grade               0\n",
              "Gender              0\n",
              "Age_at_diagnosis    0\n",
              "Race                0\n",
              "IDH1                0\n",
              "TP53                0\n",
              "ATRX                0\n",
              "PTEN                0\n",
              "EGFR                0\n",
              "CIC                 0\n",
              "MUC16               0\n",
              "PIK3CA              0\n",
              "NF1                 0\n",
              "PIK3R1              0\n",
              "FUBP1               0\n",
              "RB1                 0\n",
              "NOTCH1              0\n",
              "BCOR                0\n",
              "CSMD3               0\n",
              "SMARCA4             0\n",
              "GRIN2A              0\n",
              "IDH2                0\n",
              "FAT4                0\n",
              "PDGFRA              0\n",
              "dtype: int64"
            ]
          },
          "metadata": {},
          "execution_count": 6
        }
      ]
    },
    {
      "cell_type": "code",
      "source": [
        "sns.countplot(df, x= 'Grade')"
      ],
      "metadata": {
        "colab": {
          "base_uri": "https://localhost:8080/",
          "height": 466
        },
        "id": "OcslDoi-xNLe",
        "outputId": "5e55988f-d421-470a-c002-f75872604184"
      },
      "execution_count": null,
      "outputs": [
        {
          "output_type": "execute_result",
          "data": {
            "text/plain": [
              "<Axes: xlabel='Grade', ylabel='count'>"
            ]
          },
          "metadata": {},
          "execution_count": 7
        },
        {
          "output_type": "display_data",
          "data": {
            "text/plain": [
              "<Figure size 640x480 with 1 Axes>"
            ],
            "image/png": "[encoded data removed]"
          },
          "metadata": {}
        }
      ]
    },
    {
      "cell_type": "code",
      "source": [
        "df['Grade'].value_counts()"
      ],
      "metadata": {
        "colab": {
          "base_uri": "https://localhost:8080/"
        },
        "id": "6WV70V9esXo1",
        "outputId": "1d3dcbd1-e2c2-4ed5-ba27-7bfc3f65c62a"
      },
      "execution_count": null,
      "outputs": [
        {
          "output_type": "execute_result",
          "data": {
            "text/plain": [
              "0    487\n",
              "1    352\n",
              "Name: Grade, dtype: int64"
            ]
          },
          "metadata": {},
          "execution_count": 8
        }
      ]
    },
    {
      "cell_type": "code",
      "source": [
        "(df['Grade'] == 0).sum() / (df['Grade'] == 1).sum()"
      ],
      "metadata": {
        "colab": {
          "base_uri": "https://localhost:8080/"
        },
        "id": "On8DQdL3ot5q",
        "outputId": "4038235d-dc24-465e-ad2e-e7f0c73823e8"
      },
      "execution_count": null,
      "outputs": [
        {
          "output_type": "execute_result",
          "data": {
            "text/plain": [
              "1.3835227272727273"
            ]
          },
          "metadata": {},
          "execution_count": 9
        }
      ]
    },
    {
      "cell_type": "markdown",
      "source": [
        "As classes da variável alvo estão levemente desbalanceados, o que pode dificultar a correta classificação do modelo em novos dados, levando a uma tendência para a classe de maior prevalência. Isso deve ser levado em conta, quando o modelo for produzido."
      ],
      "metadata": {
        "id": "drNCzdinasVA"
      }
    },
    {
      "cell_type": "code",
      "source": [
        "sns.histplot(df, x= 'Age_at_diagnosis', kde=True, hue = 'Grade')"
      ],
      "metadata": {
        "colab": {
          "base_uri": "https://localhost:8080/",
          "height": 468
        },
        "id": "HW3oBL7QLvXY",
        "outputId": "3577cebc-a808-4263-9592-98009ff98a73"
      },
      "execution_count": null,
      "outputs": [
        {
          "output_type": "execute_result",
          "data": {
            "text/plain": [
              "<Axes: xlabel='Age_at_diagnosis', ylabel='Count'>"
            ]
          },
          "metadata": {},
          "execution_count": 10
        },
        {
          "output_type": "display_data",
          "data": {
            "text/plain": [
              "<Figure size 640x480 with 1 Axes>"
            ],
            "image/png": "[encoded data removed]"
          },
          "metadata": {}
        }
      ]
    },
    {
      "cell_type": "markdown",
      "source": [
        "Podemos observar que o LGG (Lower-Grade Glioma) tem, em média, uma idade de diagnóstico mais baixa, e GBM (Glioblastoma Multiforme) tem, em média, idade diagnóstica maior. Há uma correlação entre a idade de diagnóstico e a severidade do tumor?"
      ],
      "metadata": {
        "id": "R_cbeG_0OLXg"
      }
    },
    {
      "cell_type": "code",
      "source": [
        "mean_age_by_grade = df.groupby('Grade')['Age_at_diagnosis'].mean()\n",
        "std_age_by_grade = df.groupby('Grade')['Age_at_diagnosis'].std()\n",
        "\n",
        "print(\"Mean age at diagnosis by grade:\")\n",
        "for grade, mean_age in mean_age_by_grade.items():\n",
        "    std_age = std_age_by_grade[grade]\n",
        "    print(f\"Grade {grade}: {mean_age:.2f} +- {std_age:.2f}\")"
      ],
      "metadata": {
        "colab": {
          "base_uri": "https://localhost:8080/"
        },
        "id": "J2QaU1lIMz2R",
        "outputId": "a4a33d77-7d8d-4d03-d191-5334af8bcd12"
      },
      "execution_count": null,
      "outputs": [
        {
          "output_type": "stream",
          "name": "stdout",
          "text": [
            "Mean age at diagnosis by grade:\n",
            "Grade 0: 43.87 +- 13.26\n",
            "Grade 1: 60.70 +- 13.43\n"
          ]
        }
      ]
    },
    {
      "cell_type": "code",
      "source": [
        "import matplotlib.patches as mpatches\n",
        "\n",
        "race_labels = {\n",
        "    0: 'White',\n",
        "    1: 'Black/African Am.',\n",
        "    2: 'Asian',\n",
        "    3: 'Am. Indian/Alaska Nat.'\n",
        "}\n",
        "\n",
        "# Group the data by Race and Grade and calculate the count\n",
        "grouped_data = df.groupby(['Race', 'Grade']).size().reset_index(name='Count')\n",
        "\n",
        "# Create a bar plot with color palette\n",
        "sns.barplot(data=grouped_data, x='Race', y='Count', hue='Grade')\n",
        "\n",
        "# Set the x-axis labels using the race_labels dictionary and rotate them\n",
        "plt.xticks(ticks=range(len(race_labels)), labels=race_labels.values(), rotation=45, ha='right')\n",
        "\n",
        "# Set the axis labels\n",
        "plt.xlabel('Race')\n",
        "plt.ylabel('Count')\n",
        "\n",
        "# Set the plot title\n",
        "plt.title('Count of Grades per Race')\n",
        "\n",
        "# Create custom legend handles and labels\n",
        "legend_labels = ['LGG', 'GBM']\n",
        "colors = sns.color_palette('bright')[:len(legend_labels)]\n",
        "legend_handles = [mpatches.Patch(color=color, label=label) for color, label in zip(colors, legend_labels)]\n",
        "\n",
        "# Add the custom legend\n",
        "plt.legend(handles=legend_handles, title='Grade')\n",
        "\n",
        "# Display the plot\n",
        "plt.tight_layout()\n",
        "plt.show()"
      ],
      "metadata": {
        "colab": {
          "base_uri": "https://localhost:8080/",
          "height": 487
        },
        "id": "R4oeyssoTI0o",
        "outputId": "bad3b702-26ea-4a1d-a274-4ef28f2f5ac4"
      },
      "execution_count": null,
      "outputs": [
        {
          "output_type": "display_data",
          "data": {
            "text/plain": [
              "<Figure size 640x480 with 1 Axes>"
            ],
            "image/png": "[encoded data removed]"
          },
          "metadata": {}
        }
      ]
    },
    {
      "cell_type": "markdown",
      "source": [
        "Podemos observar que há um desbalanço nos dados de raça, uma vez que há poucos registros em raças não-brancas. São inúmeras as possibilidades para esse desbalanço, entre elas a vulnerabilidade socio-econômica, que pode impossibilitar o acesso aos grandes centros de diagnóstico. A variável Race, portanto, pode trazer à análise um viés de seleção, uma vez que não sabemos se esse tipo de tumor realmente ocorre mais em raças brancas ou se temos apenas poucos registros destes tumores em outras raças. Não utilizaremos, portanto, essa variável."
      ],
      "metadata": {
        "id": "QNQzJ53GYj5n"
      }
    },
    {
      "cell_type": "code",
      "source": [
        "df.drop(['Race'], axis=1)"
      ],
      "metadata": {
        "colab": {
          "base_uri": "https://localhost:8080/",
          "height": 424
        },
        "id": "LMY9s7qofOIC",
        "outputId": "aa2da7c3-c289-43d8-8e2b-e45bd52eb794"
      },
      "execution_count": null,
      "outputs": [
        {
          "output_type": "execute_result",
          "data": {
            "text/plain": [
              "     Grade  Gender  Age_at_diagnosis  IDH1  TP53  ATRX  PTEN  EGFR  CIC  \\\n",
              "0        0       0             51.30     1     0     0     0     0    0   \n",
              "1        0       0             38.72     1     0     0     0     0    1   \n",
              "2        0       0             35.17     1     1     1     0     0    0   \n",
              "3        0       1             32.78     1     1     1     0     0    0   \n",
              "4        0       0             31.51     1     1     1     0     0    0   \n",
              "..     ...     ...               ...   ...   ...   ...   ...   ...  ...   \n",
              "834      1       1             77.89     0     0     0     1     0    0   \n",
              "835      1       0             85.18     0     1     0     1     0    0   \n",
              "836      1       1             77.49     0     1     0     1     0    0   \n",
              "837      1       0             63.33     0     1     0     0     0    0   \n",
              "838      1       0             76.61     0     0     0     0     0    0   \n",
              "\n",
              "     MUC16  PIK3CA  NF1  PIK3R1  FUBP1  RB1  NOTCH1  BCOR  CSMD3  SMARCA4  \\\n",
              "0        0       1    0       0      1    0       0     0      0        0   \n",
              "1        0       0    0       0      0    0       0     0      0        0   \n",
              "2        0       0    0       0      0    0       0     0      0        0   \n",
              "3        1       0    0       1      0    0       0     0      0        0   \n",
              "4        0       0    0       0      0    0       0     0      0        0   \n",
              "..     ...     ...  ...     ...    ...  ...     ...   ...    ...      ...   \n",
              "834      0       0    0       0      0    0       0     0      0        0   \n",
              "835      0       0    0       0      0    0       0     0      0        0   \n",
              "836      0       0    0       0      0    0       0     0      0        0   \n",
              "837      1       1    0       0      0    1       0     0      0        0   \n",
              "838      0       0    0       0      0    0       0     0      0        0   \n",
              "\n",
              "     GRIN2A  IDH2  FAT4  PDGFRA  \n",
              "0         0     0     0       0  \n",
              "1         0     0     0       0  \n",
              "2         0     0     0       0  \n",
              "3         0     0     1       0  \n",
              "4         0     0     0       0  \n",
              "..      ...   ...   ...     ...  \n",
              "834       0     0     0       0  \n",
              "835       0     0     0       0  \n",
              "836       0     0     0       0  \n",
              "837       0     0     0       0  \n",
              "838       0     0     0       0  \n",
              "\n",
              "[839 rows x 23 columns]"
            ],
            "text/html": [
              "\n",
              "  <div id=\"df-3991ce50-1c7c-4d1a-9fb5-88a6e51c85be\" class=\"colab-df-container\">\n",
              "    <div>\n",
              "<style scoped>\n",
              "    .dataframe tbody tr th:only-of-type {\n",
              "        vertical-align: middle;\n",
              "    }\n",
              "\n",
              "    .dataframe tbody tr th {\n",
              "        vertical-align: top;\n",
              "    }\n",
              "\n",
              "    .dataframe thead th {\n",
              "        text-align: right;\n",
              "    }\n",
              "</style>\n",
              "<table border=\"1\" class=\"dataframe\">\n",
              "  <thead>\n",
              "    <tr style=\"text-align: right;\">\n",
              "      <th></th>\n",
              "      <th>Grade</th>\n",
              "      <th>Gender</th>\n",
              "      <th>Age_at_diagnosis</th>\n",
              "      <th>IDH1</th>\n",
              "      <th>TP53</th>\n",
              "      <th>ATRX</th>\n",
              "      <th>PTEN</th>\n",
              "      <th>EGFR</th>\n",
              "      <th>CIC</th>\n",
              "      <th>MUC16</th>\n",
              "      <th>PIK3CA</th>\n",
              "      <th>NF1</th>\n",
              "      <th>PIK3R1</th>\n",
              "      <th>FUBP1</th>\n",
              "      <th>RB1</th>\n",
              "      <th>NOTCH1</th>\n",
              "      <th>BCOR</th>\n",
              "      <th>CSMD3</th>\n",
              "      <th>SMARCA4</th>\n",
              "      <th>GRIN2A</th>\n",
              "      <th>IDH2</th>\n",
              "      <th>FAT4</th>\n",
              "      <th>PDGFRA</th>\n",
              "    </tr>\n",
              "  </thead>\n",
              "  <tbody>\n",
              "    <tr>\n",
              "      <th>0</th>\n",
              "      <td>0</td>\n",
              "      <td>0</td>\n",
              "      <td>51.30</td>\n",
              "      <td>1</td>\n",
              "      <td>0</td>\n",
              "      <td>0</td>\n",
              "      <td>0</td>\n",
              "      <td>0</td>\n",
              "      <td>0</td>\n",
              "      <td>0</td>\n",
              "      <td>1</td>\n",
              "      <td>0</td>\n",
              "      <td>0</td>\n",
              "      <td>1</td>\n",
              "      <td>0</td>\n",
              "      <td>0</td>\n",
              "      <td>0</td>\n",
              "      <td>0</td>\n",
              "      <td>0</td>\n",
              "      <td>0</td>\n",
              "      <td>0</td>\n",
              "      <td>0</td>\n",
              "      <td>0</td>\n",
              "    </tr>\n",
              "    <tr>\n",
              "      <th>1</th>\n",
              "      <td>0</td>\n",
              "      <td>0</td>\n",
              "      <td>38.72</td>\n",
              "      <td>1</td>\n",
              "      <td>0</td>\n",
              "      <td>0</td>\n",
              "      <td>0</td>\n",
              "      <td>0</td>\n",
              "      <td>1</td>\n",
              "      <td>0</td>\n",
              "      <td>0</td>\n",
              "      <td>0</td>\n",
              "      <td>0</td>\n",
              "      <td>0</td>\n",
              "      <td>0</td>\n",
              "      <td>0</td>\n",
              "      <td>0</td>\n",
              "      <td>0</td>\n",
              "      <td>0</td>\n",
              "      <td>0</td>\n",
              "      <td>0</td>\n",
              "      <td>0</td>\n",
              "      <td>0</td>\n",
              "    </tr>\n",
              "    <tr>\n",
              "      <th>2</th>\n",
              "      <td>0</td>\n",
              "      <td>0</td>\n",
              "      <td>35.17</td>\n",
              "      <td>1</td>\n",
              "      <td>1</td>\n",
              "      <td>1</td>\n",
              "      <td>0</td>\n",
              "      <td>0</td>\n",
              "      <td>0</td>\n",
              "      <td>0</td>\n",
              "      <td>0</td>\n",
              "      <td>0</td>\n",
              "      <td>0</td>\n",
              "      <td>0</td>\n",
              "      <td>0</td>\n",
              "      <td>0</td>\n",
              "      <td>0</td>\n",
              "      <td>0</td>\n",
              "      <td>0</td>\n",
              "      <td>0</td>\n",
              "      <td>0</td>\n",
              "      <td>0</td>\n",
              "      <td>0</td>\n",
              "    </tr>\n",
              "    <tr>\n",
              "      <th>3</th>\n",
              "      <td>0</td>\n",
              "      <td>1</td>\n",
              "      <td>32.78</td>\n",
              "      <td>1</td>\n",
              "      <td>1</td>\n",
              "      <td>1</td>\n",
              "      <td>0</td>\n",
              "      <td>0</td>\n",
              "      <td>0</td>\n",
              "      <td>1</td>\n",
              "      <td>0</td>\n",
              "      <td>0</td>\n",
              "      <td>1</td>\n",
              "      <td>0</td>\n",
              "      <td>0</td>\n",
              "      <td>0</td>\n",
              "      <td>0</td>\n",
              "      <td>0</td>\n",
              "      <td>0</td>\n",
              "      <td>0</td>\n",
              "      <td>0</td>\n",
              "      <td>1</td>\n",
              "      <td>0</td>\n",
              "    </tr>\n",
              "    <tr>\n",
              "      <th>4</th>\n",
              "      <td>0</td>\n",
              "      <td>0</td>\n",
              "      <td>31.51</td>\n",
              "      <td>1</td>\n",
              "      <td>1</td>\n",
              "      <td>1</td>\n",
              "      <td>0</td>\n",
              "      <td>0</td>\n",
              "      <td>0</td>\n",
              "      <td>0</td>\n",
              "      <td>0</td>\n",
              "      <td>0</td>\n",
              "      <td>0</td>\n",
              "      <td>0</td>\n",
              "      <td>0</td>\n",
              "      <td>0</td>\n",
              "      <td>0</td>\n",
              "      <td>0</td>\n",
              "      <td>0</td>\n",
              "      <td>0</td>\n",
              "      <td>0</td>\n",
              "      <td>0</td>\n",
              "      <td>0</td>\n",
              "    </tr>\n",
              "    <tr>\n",
              "      <th>...</th>\n",
              "      <td>...</td>\n",
              "      <td>...</td>\n",
              "      <td>...</td>\n",
              "      <td>...</td>\n",
              "      <td>...</td>\n",
              "      <td>...</td>\n",
              "      <td>...</td>\n",
              "      <td>...</td>\n",
              "      <td>...</td>\n",
              "      <td>...</td>\n",
              "      <td>...</td>\n",
              "      <td>...</td>\n",
              "      <td>...</td>\n",
              "      <td>...</td>\n",
              "      <td>...</td>\n",
              "      <td>...</td>\n",
              "      <td>...</td>\n",
              "      <td>...</td>\n",
              "      <td>...</td>\n",
              "      <td>...</td>\n",
              "      <td>...</td>\n",
              "      <td>...</td>\n",
              "      <td>...</td>\n",
              "    </tr>\n",
              "    <tr>\n",
              "      <th>834</th>\n",
              "      <td>1</td>\n",
              "      <td>1</td>\n",
              "      <td>77.89</td>\n",
              "      <td>0</td>\n",
              "      <td>0</td>\n",
              "      <td>0</td>\n",
              "      <td>1</td>\n",
              "      <td>0</td>\n",
              "      <td>0</td>\n",
              "      <td>0</td>\n",
              "      <td>0</td>\n",
              "      <td>0</td>\n",
              "      <td>0</td>\n",
              "      <td>0</td>\n",
              "      <td>0</td>\n",
              "      <td>0</td>\n",
              "      <td>0</td>\n",
              "      <td>0</td>\n",
              "      <td>0</td>\n",
              "      <td>0</td>\n",
              "      <td>0</td>\n",
              "      <td>0</td>\n",
              "      <td>0</td>\n",
              "    </tr>\n",
              "    <tr>\n",
              "      <th>835</th>\n",
              "      <td>1</td>\n",
              "      <td>0</td>\n",
              "      <td>85.18</td>\n",
              "      <td>0</td>\n",
              "      <td>1</td>\n",
              "      <td>0</td>\n",
              "      <td>1</td>\n",
              "      <td>0</td>\n",
              "      <td>0</td>\n",
              "      <td>0</td>\n",
              "      <td>0</td>\n",
              "      <td>0</td>\n",
              "      <td>0</td>\n",
              "      <td>0</td>\n",
              "      <td>0</td>\n",
              "      <td>0</td>\n",
              "      <td>0</td>\n",
              "      <td>0</td>\n",
              "      <td>0</td>\n",
              "      <td>0</td>\n",
              "      <td>0</td>\n",
              "      <td>0</td>\n",
              "      <td>0</td>\n",
              "    </tr>\n",
              "    <tr>\n",
              "      <th>836</th>\n",
              "      <td>1</td>\n",
              "      <td>1</td>\n",
              "      <td>77.49</td>\n",
              "      <td>0</td>\n",
              "      <td>1</td>\n",
              "      <td>0</td>\n",
              "      <td>1</td>\n",
              "      <td>0</td>\n",
              "      <td>0</td>\n",
              "      <td>0</td>\n",
              "      <td>0</td>\n",
              "      <td>0</td>\n",
              "      <td>0</td>\n",
              "      <td>0</td>\n",
              "      <td>0</td>\n",
              "      <td>0</td>\n",
              "      <td>0</td>\n",
              "      <td>0</td>\n",
              "      <td>0</td>\n",
              "      <td>0</td>\n",
              "      <td>0</td>\n",
              "      <td>0</td>\n",
              "      <td>0</td>\n",
              "    </tr>\n",
              "    <tr>\n",
              "      <th>837</th>\n",
              "      <td>1</td>\n",
              "      <td>0</td>\n",
              "      <td>63.33</td>\n",
              "      <td>0</td>\n",
              "      <td>1</td>\n",
              "      <td>0</td>\n",
              "      <td>0</td>\n",
              "      <td>0</td>\n",
              "      <td>0</td>\n",
              "      <td>1</td>\n",
              "      <td>1</td>\n",
              "      <td>0</td>\n",
              "      <td>0</td>\n",
              "      <td>0</td>\n",
              "      <td>1</td>\n",
              "      <td>0</td>\n",
              "      <td>0</td>\n",
              "      <td>0</td>\n",
              "      <td>0</td>\n",
              "      <td>0</td>\n",
              "      <td>0</td>\n",
              "      <td>0</td>\n",
              "      <td>0</td>\n",
              "    </tr>\n",
              "    <tr>\n",
              "      <th>838</th>\n",
              "      <td>1</td>\n",
              "      <td>0</td>\n",
              "      <td>76.61</td>\n",
              "      <td>0</td>\n",
              "      <td>0</td>\n",
              "      <td>0</td>\n",
              "      <td>0</td>\n",
              "      <td>0</td>\n",
              "      <td>0</td>\n",
              "      <td>0</td>\n",
              "      <td>0</td>\n",
              "      <td>0</td>\n",
              "      <td>0</td>\n",
              "      <td>0</td>\n",
              "      <td>0</td>\n",
              "      <td>0</td>\n",
              "      <td>0</td>\n",
              "      <td>0</td>\n",
              "      <td>0</td>\n",
              "      <td>0</td>\n",
              "      <td>0</td>\n",
              "      <td>0</td>\n",
              "      <td>0</td>\n",
              "    </tr>\n",
              "  </tbody>\n",
              "</table>\n",
              "<p>839 rows × 23 columns</p>\n",
              "</div>\n",
              "    <div class=\"colab-df-buttons\">\n",
              "\n",
              "  <div class=\"colab-df-container\">\n",
              "    <button class=\"colab-df-convert\" onclick=\"convertToInteractive('df-3991ce50-1c7c-4d1a-9fb5-88a6e51c85be')\"\n",
              "            title=\"Convert this dataframe to an interactive table.\"\n",
              "            style=\"display:none;\">\n",
              "\n",
              "  <svg xmlns=\"http://www.w3.org/2000/svg\" height=\"24px\" viewBox=\"0 -960 960 960\">\n",
              "    <path d=\"M120-120v-720h720v720H120Zm60-500h600v-160H180v160Zm220 220h160v-160H400v160Zm0 220h160v-160H400v160ZM180-400h160v-160H180v160Zm440 0h160v-160H620v160ZM180-180h160v-160H180v160Zm440 0h160v-160H620v160Z\"/>\n",
              "  </svg>\n",
              "    </button>\n",
              "\n",
              "  <style>\n",
              "    .colab-df-container {\n",
              "      display:flex;\n",
              "      gap: 12px;\n",
              "    }\n",
              "\n",
              "    .colab-df-convert {\n",
              "      background-color: #E8F0FE;\n",
              "      border: none;\n",
              "      border-radius: 50%;\n",
              "      cursor: pointer;\n",
              "      display: none;\n",
              "      fill: #1967D2;\n",
              "      height: 32px;\n",
              "      padding: 0 0 0 0;\n",
              "      width: 32px;\n",
              "    }\n",
              "\n",
              "    .colab-df-convert:hover {\n",
              "      background-color: #E2EBFA;\n",
              "      box-shadow: 0px 1px 2px rgba(60, 64, 67, 0.3), 0px 1px 3px 1px rgba(60, 64, 67, 0.15);\n",
              "      fill: #174EA6;\n",
              "    }\n",
              "\n",
              "    .colab-df-buttons div {\n",
              "      margin-bottom: 4px;\n",
              "    }\n",
              "\n",
              "    [theme=dark] .colab-df-convert {\n",
              "      background-color: #3B4455;\n",
              "      fill: #D2E3FC;\n",
              "    }\n",
              "\n",
              "    [theme=dark] .colab-df-convert:hover {\n",
              "      background-color: #434B5C;\n",
              "      box-shadow: 0px 1px 3px 1px rgba(0, 0, 0, 0.15);\n",
              "      filter: drop-shadow(0px 1px 2px rgba(0, 0, 0, 0.3));\n",
              "      fill: #FFFFFF;\n",
              "    }\n",
              "  </style>\n",
              "\n",
              "    <script>\n",
              "      const buttonEl =\n",
              "        document.querySelector('#df-3991ce50-1c7c-4d1a-9fb5-88a6e51c85be button.colab-df-convert');\n",
              "      buttonEl.style.display =\n",
              "        google.colab.kernel.accessAllowed ? 'block' : 'none';\n",
              "\n",
              "      async function convertToInteractive(key) {\n",
              "        const element = document.querySelector('#df-3991ce50-1c7c-4d1a-9fb5-88a6e51c85be');\n",
              "        const dataTable =\n",
              "          await google.colab.kernel.invokeFunction('convertToInteractive',\n",
              "                                                    [key], {});\n",
              "        if (!dataTable) return;\n",
              "\n",
              "        const docLinkHtml = 'Like what you see? Visit the ' +\n",
              "          '<a target=\"_blank\" href=https://colab.research.google.com/notebooks/data_table.ipynb>data table notebook</a>'\n",
              "          + ' to learn more about interactive tables.';\n",
              "        element.innerHTML = '';\n",
              "        dataTable['output_type'] = 'display_data';\n",
              "        await google.colab.output.renderOutput(dataTable, element);\n",
              "        const docLink = document.createElement('div');\n",
              "        docLink.innerHTML = docLinkHtml;\n",
              "        element.appendChild(docLink);\n",
              "      }\n",
              "    </script>\n",
              "  </div>\n",
              "\n",
              "\n",
              "<div id=\"df-3deba8fd-c734-47d8-adab-b496f9dd9b31\">\n",
              "  <button class=\"colab-df-quickchart\" onclick=\"quickchart('df-3deba8fd-c734-47d8-adab-b496f9dd9b31')\"\n",
              "            title=\"Suggest charts.\"\n",
              "            style=\"display:none;\">\n",
              "\n",
              "<svg xmlns=\"http://www.w3.org/2000/svg\" height=\"24px\"viewBox=\"0 0 24 24\"\n",
              "     width=\"24px\">\n",
              "    <g>\n",
              "        <path d=\"M19 3H5c-1.1 0-2 .9-2 2v14c0 1.1.9 2 2 2h14c1.1 0 2-.9 2-2V5c0-1.1-.9-2-2-2zM9 17H7v-7h2v7zm4 0h-2V7h2v10zm4 0h-2v-4h2v4z\"/>\n",
              "    </g>\n",
              "</svg>\n",
              "  </button>\n",
              "\n",
              "<style>\n",
              "  .colab-df-quickchart {\n",
              "      --bg-color: #E8F0FE;\n",
              "      --fill-color: #1967D2;\n",
              "      --hover-bg-color: #E2EBFA;\n",
              "      --hover-fill-color: #174EA6;\n",
              "      --disabled-fill-color: #AAA;\n",
              "      --disabled-bg-color: #DDD;\n",
              "  }\n",
              "\n",
              "  [theme=dark] .colab-df-quickchart {\n",
              "      --bg-color: #3B4455;\n",
              "      --fill-color: #D2E3FC;\n",
              "      --hover-bg-color: #434B5C;\n",
              "      --hover-fill-color: #FFFFFF;\n",
              "      --disabled-bg-color: #3B4455;\n",
              "      --disabled-fill-color: #666;\n",
              "  }\n",
              "\n",
              "  .colab-df-quickchart {\n",
              "    background-color: var(--bg-color);\n",
              "    border: none;\n",
              "    border-radius: 50%;\n",
              "    cursor: pointer;\n",
              "    display: none;\n",
              "    fill: var(--fill-color);\n",
              "    height: 32px;\n",
              "    padding: 0;\n",
              "    width: 32px;\n",
              "  }\n",
              "\n",
              "  .colab-df-quickchart:hover {\n",
              "    background-color: var(--hover-bg-color);\n",
              "    box-shadow: 0 1px 2px rgba(60, 64, 67, 0.3), 0 1px 3px 1px rgba(60, 64, 67, 0.15);\n",
              "    fill: var(--button-hover-fill-color);\n",
              "  }\n",
              "\n",
              "  .colab-df-quickchart-complete:disabled,\n",
              "  .colab-df-quickchart-complete:disabled:hover {\n",
              "    background-color: var(--disabled-bg-color);\n",
              "    fill: var(--disabled-fill-color);\n",
              "    box-shadow: none;\n",
              "  }\n",
              "\n",
              "  .colab-df-spinner {\n",
              "    border: 2px solid var(--fill-color);\n",
              "    border-color: transparent;\n",
              "    border-bottom-color: var(--fill-color);\n",
              "    animation:\n",
              "      spin 1s steps(1) infinite;\n",
              "  }\n",
              "\n",
              "  @keyframes spin {\n",
              "    0% {\n",
              "      border-color: transparent;\n",
              "      border-bottom-color: var(--fill-color);\n",
              "      border-left-color: var(--fill-color);\n",
              "    }\n",
              "    20% {\n",
              "      border-color: transparent;\n",
              "      border-left-color: var(--fill-color);\n",
              "      border-top-color: var(--fill-color);\n",
              "    }\n",
              "    30% {\n",
              "      border-color: transparent;\n",
              "      border-left-color: var(--fill-color);\n",
              "      border-top-color: var(--fill-color);\n",
              "      border-right-color: var(--fill-color);\n",
              "    }\n",
              "    40% {\n",
              "      border-color: transparent;\n",
              "      border-right-color: var(--fill-color);\n",
              "      border-top-color: var(--fill-color);\n",
              "    }\n",
              "    60% {\n",
              "      border-color: transparent;\n",
              "      border-right-color: var(--fill-color);\n",
              "    }\n",
              "    80% {\n",
              "      border-color: transparent;\n",
              "      border-right-color: var(--fill-color);\n",
              "      border-bottom-color: var(--fill-color);\n",
              "    }\n",
              "    90% {\n",
              "      border-color: transparent;\n",
              "      border-bottom-color: var(--fill-color);\n",
              "    }\n",
              "  }\n",
              "</style>\n",
              "\n",
              "  <script>\n",
              "    async function quickchart(key) {\n",
              "      const quickchartButtonEl =\n",
              "        document.querySelector('#' + key + ' button');\n",
              "      quickchartButtonEl.disabled = true;  // To prevent multiple clicks.\n",
              "      quickchartButtonEl.classList.add('colab-df-spinner');\n",
              "      try {\n",
              "        const charts = await google.colab.kernel.invokeFunction(\n",
              "            'suggestCharts', [key], {});\n",
              "      } catch (error) {\n",
              "        console.error('Error during call to suggestCharts:', error);\n",
              "      }\n",
              "      quickchartButtonEl.classList.remove('colab-df-spinner');\n",
              "      quickchartButtonEl.classList.add('colab-df-quickchart-complete');\n",
              "    }\n",
              "    (() => {\n",
              "      let quickchartButtonEl =\n",
              "        document.querySelector('#df-3deba8fd-c734-47d8-adab-b496f9dd9b31 button');\n",
              "      quickchartButtonEl.style.display =\n",
              "        google.colab.kernel.accessAllowed ? 'block' : 'none';\n",
              "    })();\n",
              "  </script>\n",
              "</div>\n",
              "    </div>\n",
              "  </div>\n"
            ]
          },
          "metadata": {},
          "execution_count": 13
        }
      ]
    },
    {
      "cell_type": "markdown",
      "source": [
        "## **MACHINE LEARNING**"
      ],
      "metadata": {
        "id": "i_qsnBhy03Lx"
      }
    },
    {
      "cell_type": "markdown",
      "source": [
        "Divisão dos dados em treino/teste."
      ],
      "metadata": {
        "id": "C4BH0KG8DIvt"
      }
    },
    {
      "cell_type": "code",
      "source": [
        "from sklearn.model_selection import train_test_split"
      ],
      "metadata": {
        "id": "ZfoEDtrppZum"
      },
      "execution_count": null,
      "outputs": []
    },
    {
      "cell_type": "code",
      "source": [
        "y = df['Grade']\n",
        "X = df.drop(['Grade'], axis=1)"
      ],
      "metadata": {
        "id": "rokG_m7XDAML"
      },
      "execution_count": null,
      "outputs": []
    },
    {
      "cell_type": "code",
      "source": [
        "X_train, X_test, y_train, y_test = train_test_split(X, y, test_size=0.20, random_state=101)"
      ],
      "metadata": {
        "id": "Dp4O4RJYDEDc"
      },
      "execution_count": null,
      "outputs": []
    },
    {
      "cell_type": "markdown",
      "source": [
        "## Logistic Regression"
      ],
      "metadata": {
        "id": "Y3oMpiK4eqMU"
      }
    },
    {
      "cell_type": "code",
      "source": [
        "from sklearn.linear_model import LogisticRegression"
      ],
      "metadata": {
        "id": "JgZtkuXNpm0V"
      },
      "execution_count": null,
      "outputs": []
    },
    {
      "cell_type": "code",
      "source": [
        "logmodel = LogisticRegression()\n",
        "logmodel.fit(X_train,y_train)"
      ],
      "metadata": {
        "id": "rNDTHwUbp87X",
        "colab": {
          "base_uri": "https://localhost:8080/",
          "height": 214
        },
        "outputId": "faf0e97a-d490-4f3c-f914-dfc0648aec33"
      },
      "execution_count": null,
      "outputs": [
        {
          "output_type": "stream",
          "name": "stderr",
          "text": [
            "/usr/local/lib/python3.10/dist-packages/sklearn/linear_model/_logistic.py:458: ConvergenceWarning: lbfgs failed to converge (status=1):\n",
            "STOP: TOTAL NO. of ITERATIONS REACHED LIMIT.\n",
            "\n",
            "Increase the number of iterations (max_iter) or scale the data as shown in:\n",
            "    https://scikit-learn.org/stable/modules/preprocessing.html\n",
            "Please also refer to the documentation for alternative solver options:\n",
            "    https://scikit-learn.org/stable/modules/linear_model.html#logistic-regression\n",
            "  n_iter_i = _check_optimize_result(\n"
          ]
        },
        {
          "output_type": "execute_result",
          "data": {
            "text/plain": [
              "LogisticRegression()"
            ],
            "text/html": [
              "<style>#sk-container-id-1 {color: black;background-color: white;}#sk-container-id-1 pre{padding: 0;}#sk-container-id-1 div.sk-toggleable {background-color: white;}#sk-container-id-1 label.sk-toggleable__label {cursor: pointer;display: block;width: 100%;margin-bottom: 0;padding: 0.3em;box-sizing: border-box;text-align: center;}#sk-container-id-1 label.sk-toggleable__label-arrow:before {content: \"▸\";float: left;margin-right: 0.25em;color: #696969;}#sk-container-id-1 label.sk-toggleable__label-arrow:hover:before {color: black;}#sk-container-id-1 div.sk-estimator:hover label.sk-toggleable__label-arrow:before {color: black;}#sk-container-id-1 div.sk-toggleable__content {max-height: 0;max-width: 0;overflow: hidden;text-align: left;background-color: #f0f8ff;}#sk-container-id-1 div.sk-toggleable__content pre {margin: 0.2em;color: black;border-radius: 0.25em;background-color: #f0f8ff;}#sk-container-id-1 input.sk-toggleable__control:checked~div.sk-toggleable__content {max-height: 200px;max-width: 100%;overflow: auto;}#sk-container-id-1 input.sk-toggleable__control:checked~label.sk-toggleable__label-arrow:before {content: \"▾\";}#sk-container-id-1 div.sk-estimator input.sk-toggleable__control:checked~label.sk-toggleable__label {background-color: #d4ebff;}#sk-container-id-1 div.sk-label input.sk-toggleable__control:checked~label.sk-toggleable__label {background-color: #d4ebff;}#sk-container-id-1 input.sk-hidden--visually {border: 0;clip: rect(1px 1px 1px 1px);clip: rect(1px, 1px, 1px, 1px);height: 1px;margin: -1px;overflow: hidden;padding: 0;position: absolute;width: 1px;}#sk-container-id-1 div.sk-estimator {font-family: monospace;background-color: #f0f8ff;border: 1px dotted black;border-radius: 0.25em;box-sizing: border-box;margin-bottom: 0.5em;}#sk-container-id-1 div.sk-estimator:hover {background-color: #d4ebff;}#sk-container-id-1 div.sk-parallel-item::after {content: \"\";width: 100%;border-bottom: 1px solid gray;flex-grow: 1;}#sk-container-id-1 div.sk-label:hover label.sk-toggleable__label {background-color: #d4ebff;}#sk-container-id-1 div.sk-serial::before {content: \"\";position: absolute;border-left: 1px solid gray;box-sizing: border-box;top: 0;bottom: 0;left: 50%;z-index: 0;}#sk-container-id-1 div.sk-serial {display: flex;flex-direction: column;align-items: center;background-color: white;padding-right: 0.2em;padding-left: 0.2em;position: relative;}#sk-container-id-1 div.sk-item {position: relative;z-index: 1;}#sk-container-id-1 div.sk-parallel {display: flex;align-items: stretch;justify-content: center;background-color: white;position: relative;}#sk-container-id-1 div.sk-item::before, #sk-container-id-1 div.sk-parallel-item::before {content: \"\";position: absolute;border-left: 1px solid gray;box-sizing: border-box;top: 0;bottom: 0;left: 50%;z-index: -1;}#sk-container-id-1 div.sk-parallel-item {display: flex;flex-direction: column;z-index: 1;position: relative;background-color: white;}#sk-container-id-1 div.sk-parallel-item:first-child::after {align-self: flex-end;width: 50%;}#sk-container-id-1 div.sk-parallel-item:last-child::after {align-self: flex-start;width: 50%;}#sk-container-id-1 div.sk-parallel-item:only-child::after {width: 0;}#sk-container-id-1 div.sk-dashed-wrapped {border: 1px dashed gray;margin: 0 0.4em 0.5em 0.4em;box-sizing: border-box;padding-bottom: 0.4em;background-color: white;}#sk-container-id-1 div.sk-label label {font-family: monospace;font-weight: bold;display: inline-block;line-height: 1.2em;}#sk-container-id-1 div.sk-label-container {text-align: center;}#sk-container-id-1 div.sk-container {/* jupyter's `normalize.less` sets `[hidden] { display: none; }` but bootstrap.min.css set `[hidden] { display: none !important; }` so we also need the `!important` here to be able to override the default hidden behavior on the sphinx rendered scikit-learn.org. See: https://github.com/scikit-learn/scikit-learn/issues/21755 */display: inline-block !important;position: relative;}#sk-container-id-1 div.sk-text-repr-fallback {display: none;}</style><div id=\"sk-container-id-1\" class=\"sk-top-container\"><div class=\"sk-text-repr-fallback\"><pre>LogisticRegression()</pre><b>In a Jupyter environment, please rerun this cell to show the HTML representation or trust the notebook. <br />On GitHub, the HTML representation is unable to render, please try loading this page with nbviewer.org.</b></div><div class=\"sk-container\" hidden><div class=\"sk-item\"><div class=\"sk-estimator sk-toggleable\"><input class=\"sk-toggleable__control sk-hidden--visually\" id=\"sk-estimator-id-1\" type=\"checkbox\" checked><label for=\"sk-estimator-id-1\" class=\"sk-toggleable__label sk-toggleable__label-arrow\">LogisticRegression</label><div class=\"sk-toggleable__content\"><pre>LogisticRegression()</pre></div></div></div></div></div>"
            ]
          },
          "metadata": {},
          "execution_count": 18
        }
      ]
    },
    {
      "cell_type": "code",
      "source": [
        "predictions = logmodel.predict(X_test)"
      ],
      "metadata": {
        "id": "NP9ouOCyp-Om"
      },
      "execution_count": null,
      "outputs": []
    },
    {
      "cell_type": "code",
      "source": [
        "from sklearn.metrics import classification_report,confusion_matrix,ConfusionMatrixDisplay"
      ],
      "metadata": {
        "id": "bBg943V6qCfb"
      },
      "execution_count": null,
      "outputs": []
    },
    {
      "cell_type": "code",
      "source": [
        "cm = confusion_matrix(y_test, predictions)\n",
        "disp = ConfusionMatrixDisplay(confusion_matrix=cm,\n",
        "                               display_labels=['LGG', 'GBM'])\n",
        "disp.plot()"
      ],
      "metadata": {
        "colab": {
          "base_uri": "https://localhost:8080/",
          "height": 466
        },
        "id": "xYi4D43NJm2_",
        "outputId": "0a85978e-1b91-4f94-82df-ad11ce9bc603"
      },
      "execution_count": null,
      "outputs": [
        {
          "output_type": "execute_result",
          "data": {
            "text/plain": [
              "<sklearn.metrics._plot.confusion_matrix.ConfusionMatrixDisplay at 0x7b16e13a4b20>"
            ]
          },
          "metadata": {},
          "execution_count": 21
        },
        {
          "output_type": "display_data",
          "data": {
            "text/plain": [
              "<Figure size 640x480 with 2 Axes>"
            ],
            "image/png": "[encoded data removed]"
          },
          "metadata": {}
        }
      ]
    },
    {
      "cell_type": "code",
      "source": [
        "from sklearn.metrics import roc_auc_score\n",
        "\n",
        "roc_auc = roc_auc_score(y_test,predictions)\n",
        "\n",
        "print(roc_auc)"
      ],
      "metadata": {
        "colab": {
          "base_uri": "https://localhost:8080/"
        },
        "id": "uwLzzxCpGTX7",
        "outputId": "0ad7fe59-d613-491c-8977-621b0543935d"
      },
      "execution_count": null,
      "outputs": [
        {
          "output_type": "stream",
          "name": "stdout",
          "text": [
            "0.8731481481481481\n"
          ]
        }
      ]
    },
    {
      "cell_type": "markdown",
      "source": [
        "Como há um leve desbalanço nos dados e a classe positiva é a mais importante (GBM), a métrica de avaliação deve ser o F1-score ou ROC-AUC."
      ],
      "metadata": {
        "id": "dLniSdsG3NSd"
      }
    },
    {
      "cell_type": "markdown",
      "source": [
        "## Random Forest"
      ],
      "metadata": {
        "id": "tQy4e0oTvTRQ"
      }
    },
    {
      "cell_type": "code",
      "source": [
        "from sklearn.ensemble import RandomForestClassifier\n",
        "rfc = RandomForestClassifier()\n",
        "rfc.fit(X_train, y_train)"
      ],
      "metadata": {
        "colab": {
          "base_uri": "https://localhost:8080/",
          "height": 75
        },
        "id": "5tl9zWW2vDGZ",
        "outputId": "e8a4e4e5-2132-4760-ebf9-5ee677e43b32"
      },
      "execution_count": null,
      "outputs": [
        {
          "output_type": "execute_result",
          "data": {
            "text/plain": [
              "RandomForestClassifier()"
            ],
            "text/html": [
              "<style>#sk-container-id-2 {color: black;background-color: white;}#sk-container-id-2 pre{padding: 0;}#sk-container-id-2 div.sk-toggleable {background-color: white;}#sk-container-id-2 label.sk-toggleable__label {cursor: pointer;display: block;width: 100%;margin-bottom: 0;padding: 0.3em;box-sizing: border-box;text-align: center;}#sk-container-id-2 label.sk-toggleable__label-arrow:before {content: \"▸\";float: left;margin-right: 0.25em;color: #696969;}#sk-container-id-2 label.sk-toggleable__label-arrow:hover:before {color: black;}#sk-container-id-2 div.sk-estimator:hover label.sk-toggleable__label-arrow:before {color: black;}#sk-container-id-2 div.sk-toggleable__content {max-height: 0;max-width: 0;overflow: hidden;text-align: left;background-color: #f0f8ff;}#sk-container-id-2 div.sk-toggleable__content pre {margin: 0.2em;color: black;border-radius: 0.25em;background-color: #f0f8ff;}#sk-container-id-2 input.sk-toggleable__control:checked~div.sk-toggleable__content {max-height: 200px;max-width: 100%;overflow: auto;}#sk-container-id-2 input.sk-toggleable__control:checked~label.sk-toggleable__label-arrow:before {content: \"▾\";}#sk-container-id-2 div.sk-estimator input.sk-toggleable__control:checked~label.sk-toggleable__label {background-color: #d4ebff;}#sk-container-id-2 div.sk-label input.sk-toggleable__control:checked~label.sk-toggleable__label {background-color: #d4ebff;}#sk-container-id-2 input.sk-hidden--visually {border: 0;clip: rect(1px 1px 1px 1px);clip: rect(1px, 1px, 1px, 1px);height: 1px;margin: -1px;overflow: hidden;padding: 0;position: absolute;width: 1px;}#sk-container-id-2 div.sk-estimator {font-family: monospace;background-color: #f0f8ff;border: 1px dotted black;border-radius: 0.25em;box-sizing: border-box;margin-bottom: 0.5em;}#sk-container-id-2 div.sk-estimator:hover {background-color: #d4ebff;}#sk-container-id-2 div.sk-parallel-item::after {content: \"\";width: 100%;border-bottom: 1px solid gray;flex-grow: 1;}#sk-container-id-2 div.sk-label:hover label.sk-toggleable__label {background-color: #d4ebff;}#sk-container-id-2 div.sk-serial::before {content: \"\";position: absolute;border-left: 1px solid gray;box-sizing: border-box;top: 0;bottom: 0;left: 50%;z-index: 0;}#sk-container-id-2 div.sk-serial {display: flex;flex-direction: column;align-items: center;background-color: white;padding-right: 0.2em;padding-left: 0.2em;position: relative;}#sk-container-id-2 div.sk-item {position: relative;z-index: 1;}#sk-container-id-2 div.sk-parallel {display: flex;align-items: stretch;justify-content: center;background-color: white;position: relative;}#sk-container-id-2 div.sk-item::before, #sk-container-id-2 div.sk-parallel-item::before {content: \"\";position: absolute;border-left: 1px solid gray;box-sizing: border-box;top: 0;bottom: 0;left: 50%;z-index: -1;}#sk-container-id-2 div.sk-parallel-item {display: flex;flex-direction: column;z-index: 1;position: relative;background-color: white;}#sk-container-id-2 div.sk-parallel-item:first-child::after {align-self: flex-end;width: 50%;}#sk-container-id-2 div.sk-parallel-item:last-child::after {align-self: flex-start;width: 50%;}#sk-container-id-2 div.sk-parallel-item:only-child::after {width: 0;}#sk-container-id-2 div.sk-dashed-wrapped {border: 1px dashed gray;margin: 0 0.4em 0.5em 0.4em;box-sizing: border-box;padding-bottom: 0.4em;background-color: white;}#sk-container-id-2 div.sk-label label {font-family: monospace;font-weight: bold;display: inline-block;line-height: 1.2em;}#sk-container-id-2 div.sk-label-container {text-align: center;}#sk-container-id-2 div.sk-container {/* jupyter's `normalize.less` sets `[hidden] { display: none; }` but bootstrap.min.css set `[hidden] { display: none !important; }` so we also need the `!important` here to be able to override the default hidden behavior on the sphinx rendered scikit-learn.org. See: https://github.com/scikit-learn/scikit-learn/issues/21755 */display: inline-block !important;position: relative;}#sk-container-id-2 div.sk-text-repr-fallback {display: none;}</style><div id=\"sk-container-id-2\" class=\"sk-top-container\"><div class=\"sk-text-repr-fallback\"><pre>RandomForestClassifier()</pre><b>In a Jupyter environment, please rerun this cell to show the HTML representation or trust the notebook. <br />On GitHub, the HTML representation is unable to render, please try loading this page with nbviewer.org.</b></div><div class=\"sk-container\" hidden><div class=\"sk-item\"><div class=\"sk-estimator sk-toggleable\"><input class=\"sk-toggleable__control sk-hidden--visually\" id=\"sk-estimator-id-2\" type=\"checkbox\" checked><label for=\"sk-estimator-id-2\" class=\"sk-toggleable__label sk-toggleable__label-arrow\">RandomForestClassifier</label><div class=\"sk-toggleable__content\"><pre>RandomForestClassifier()</pre></div></div></div></div></div>"
            ]
          },
          "metadata": {},
          "execution_count": 23
        }
      ]
    },
    {
      "cell_type": "code",
      "source": [
        "rfc_pred = rfc.predict(X_test)"
      ],
      "metadata": {
        "id": "CvyVVtTtvSUj"
      },
      "execution_count": null,
      "outputs": []
    },
    {
      "cell_type": "code",
      "source": [
        "cm = confusion_matrix(y_test, rfc_pred)\n",
        "disp = ConfusionMatrixDisplay(confusion_matrix=cm,\n",
        "                               display_labels=['LGG', 'GBM'])\n",
        "disp.plot()"
      ],
      "metadata": {
        "colab": {
          "base_uri": "https://localhost:8080/",
          "height": 466
        },
        "id": "5QzZvJ5QKBPc",
        "outputId": "4e14793f-1281-4997-94a1-47c678f8f4f7"
      },
      "execution_count": null,
      "outputs": [
        {
          "output_type": "execute_result",
          "data": {
            "text/plain": [
              "<sklearn.metrics._plot.confusion_matrix.ConfusionMatrixDisplay at 0x7b16e43fdf00>"
            ]
          },
          "metadata": {},
          "execution_count": 25
        },
        {
          "output_type": "display_data",
          "data": {
            "text/plain": [
              "<Figure size 640x480 with 2 Axes>"
            ],
            "image/png": "[encoded data removed]"
          },
          "metadata": {}
        }
      ]
    },
    {
      "cell_type": "code",
      "source": [
        "roc_auc = roc_auc_score(y_test,rfc_pred)\n",
        "\n",
        "print(roc_auc)"
      ],
      "metadata": {
        "colab": {
          "base_uri": "https://localhost:8080/"
        },
        "id": "QsbezCzDvZ08",
        "outputId": "af23abf7-268b-433c-85e3-89e4d760ecfa"
      },
      "execution_count": null,
      "outputs": [
        {
          "output_type": "stream",
          "name": "stdout",
          "text": [
            "0.8314814814814815\n"
          ]
        }
      ]
    },
    {
      "cell_type": "markdown",
      "source": [
        "Random Forest tem uma performance pior do que a Regressão Logística. Vamos tentar modificar os parâmetros."
      ],
      "metadata": {
        "id": "LnXUDdSBIBUN"
      }
    },
    {
      "cell_type": "code",
      "source": [
        "parameters = {\n",
        "  \"n_estimators\":[5,10,50,100,250],\n",
        "  \"max_depth\":[2,4,8,16,32,None]\n",
        "\n",
        "}"
      ],
      "metadata": {
        "id": "ps7Jp2TEvbh6"
      },
      "execution_count": null,
      "outputs": []
    },
    {
      "cell_type": "code",
      "source": [
        "from sklearn.model_selection import GridSearchCV\n",
        "\n",
        "cv = GridSearchCV(rfc,parameters,cv=5)\n",
        "cv.fit(X_train, y_train.values.ravel())"
      ],
      "metadata": {
        "colab": {
          "base_uri": "https://localhost:8080/",
          "height": 118
        },
        "id": "e1KwP1dfyeBA",
        "outputId": "7169ed02-1718-4aed-c5d1-f05de1c4d97f"
      },
      "execution_count": null,
      "outputs": [
        {
          "output_type": "execute_result",
          "data": {
            "text/plain": [
              "GridSearchCV(cv=5, estimator=RandomForestClassifier(),\n",
              "             param_grid={'max_depth': [2, 4, 8, 16, 32, None],\n",
              "                         'n_estimators': [5, 10, 50, 100, 250]})"
            ],
            "text/html": [
              "<style>#sk-container-id-3 {color: black;background-color: white;}#sk-container-id-3 pre{padding: 0;}#sk-container-id-3 div.sk-toggleable {background-color: white;}#sk-container-id-3 label.sk-toggleable__label {cursor: pointer;display: block;width: 100%;margin-bottom: 0;padding: 0.3em;box-sizing: border-box;text-align: center;}#sk-container-id-3 label.sk-toggleable__label-arrow:before {content: \"▸\";float: left;margin-right: 0.25em;color: #696969;}#sk-container-id-3 label.sk-toggleable__label-arrow:hover:before {color: black;}#sk-container-id-3 div.sk-estimator:hover label.sk-toggleable__label-arrow:before {color: black;}#sk-container-id-3 div.sk-toggleable__content {max-height: 0;max-width: 0;overflow: hidden;text-align: left;background-color: #f0f8ff;}#sk-container-id-3 div.sk-toggleable__content pre {margin: 0.2em;color: black;border-radius: 0.25em;background-color: #f0f8ff;}#sk-container-id-3 input.sk-toggleable__control:checked~div.sk-toggleable__content {max-height: 200px;max-width: 100%;overflow: auto;}#sk-container-id-3 input.sk-toggleable__control:checked~label.sk-toggleable__label-arrow:before {content: \"▾\";}#sk-container-id-3 div.sk-estimator input.sk-toggleable__control:checked~label.sk-toggleable__label {background-color: #d4ebff;}#sk-container-id-3 div.sk-label input.sk-toggleable__control:checked~label.sk-toggleable__label {background-color: #d4ebff;}#sk-container-id-3 input.sk-hidden--visually {border: 0;clip: rect(1px 1px 1px 1px);clip: rect(1px, 1px, 1px, 1px);height: 1px;margin: -1px;overflow: hidden;padding: 0;position: absolute;width: 1px;}#sk-container-id-3 div.sk-estimator {font-family: monospace;background-color: #f0f8ff;border: 1px dotted black;border-radius: 0.25em;box-sizing: border-box;margin-bottom: 0.5em;}#sk-container-id-3 div.sk-estimator:hover {background-color: #d4ebff;}#sk-container-id-3 div.sk-parallel-item::after {content: \"\";width: 100%;border-bottom: 1px solid gray;flex-grow: 1;}#sk-container-id-3 div.sk-label:hover label.sk-toggleable__label {background-color: #d4ebff;}#sk-container-id-3 div.sk-serial::before {content: \"\";position: absolute;border-left: 1px solid gray;box-sizing: border-box;top: 0;bottom: 0;left: 50%;z-index: 0;}#sk-container-id-3 div.sk-serial {display: flex;flex-direction: column;align-items: center;background-color: white;padding-right: 0.2em;padding-left: 0.2em;position: relative;}#sk-container-id-3 div.sk-item {position: relative;z-index: 1;}#sk-container-id-3 div.sk-parallel {display: flex;align-items: stretch;justify-content: center;background-color: white;position: relative;}#sk-container-id-3 div.sk-item::before, #sk-container-id-3 div.sk-parallel-item::before {content: \"\";position: absolute;border-left: 1px solid gray;box-sizing: border-box;top: 0;bottom: 0;left: 50%;z-index: -1;}#sk-container-id-3 div.sk-parallel-item {display: flex;flex-direction: column;z-index: 1;position: relative;background-color: white;}#sk-container-id-3 div.sk-parallel-item:first-child::after {align-self: flex-end;width: 50%;}#sk-container-id-3 div.sk-parallel-item:last-child::after {align-self: flex-start;width: 50%;}#sk-container-id-3 div.sk-parallel-item:only-child::after {width: 0;}#sk-container-id-3 div.sk-dashed-wrapped {border: 1px dashed gray;margin: 0 0.4em 0.5em 0.4em;box-sizing: border-box;padding-bottom: 0.4em;background-color: white;}#sk-container-id-3 div.sk-label label {font-family: monospace;font-weight: bold;display: inline-block;line-height: 1.2em;}#sk-container-id-3 div.sk-label-container {text-align: center;}#sk-container-id-3 div.sk-container {/* jupyter's `normalize.less` sets `[hidden] { display: none; }` but bootstrap.min.css set `[hidden] { display: none !important; }` so we also need the `!important` here to be able to override the default hidden behavior on the sphinx rendered scikit-learn.org. See: https://github.com/scikit-learn/scikit-learn/issues/21755 */display: inline-block !important;position: relative;}#sk-container-id-3 div.sk-text-repr-fallback {display: none;}</style><div id=\"sk-container-id-3\" class=\"sk-top-container\"><div class=\"sk-text-repr-fallback\"><pre>GridSearchCV(cv=5, estimator=RandomForestClassifier(),\n",
              "             param_grid={&#x27;max_depth&#x27;: [2, 4, 8, 16, 32, None],\n",
              "                         &#x27;n_estimators&#x27;: [5, 10, 50, 100, 250]})</pre><b>In a Jupyter environment, please rerun this cell to show the HTML representation or trust the notebook. <br />On GitHub, the HTML representation is unable to render, please try loading this page with nbviewer.org.</b></div><div class=\"sk-container\" hidden><div class=\"sk-item sk-dashed-wrapped\"><div class=\"sk-label-container\"><div class=\"sk-label sk-toggleable\"><input class=\"sk-toggleable__control sk-hidden--visually\" id=\"sk-estimator-id-3\" type=\"checkbox\" ><label for=\"sk-estimator-id-3\" class=\"sk-toggleable__label sk-toggleable__label-arrow\">GridSearchCV</label><div class=\"sk-toggleable__content\"><pre>GridSearchCV(cv=5, estimator=RandomForestClassifier(),\n",
              "             param_grid={&#x27;max_depth&#x27;: [2, 4, 8, 16, 32, None],\n",
              "                         &#x27;n_estimators&#x27;: [5, 10, 50, 100, 250]})</pre></div></div></div><div class=\"sk-parallel\"><div class=\"sk-parallel-item\"><div class=\"sk-item\"><div class=\"sk-label-container\"><div class=\"sk-label sk-toggleable\"><input class=\"sk-toggleable__control sk-hidden--visually\" id=\"sk-estimator-id-4\" type=\"checkbox\" ><label for=\"sk-estimator-id-4\" class=\"sk-toggleable__label sk-toggleable__label-arrow\">estimator: RandomForestClassifier</label><div class=\"sk-toggleable__content\"><pre>RandomForestClassifier()</pre></div></div></div><div class=\"sk-serial\"><div class=\"sk-item\"><div class=\"sk-estimator sk-toggleable\"><input class=\"sk-toggleable__control sk-hidden--visually\" id=\"sk-estimator-id-5\" type=\"checkbox\" ><label for=\"sk-estimator-id-5\" class=\"sk-toggleable__label sk-toggleable__label-arrow\">RandomForestClassifier</label><div class=\"sk-toggleable__content\"><pre>RandomForestClassifier()</pre></div></div></div></div></div></div></div></div></div></div>"
            ]
          },
          "metadata": {},
          "execution_count": 28
        }
      ]
    },
    {
      "cell_type": "code",
      "source": [
        "def display(results):\n",
        "  print(f'Best parameters are: {results.best_params_}')\n",
        "  print(\"\\n\")\n",
        "  mean_score = results.cv_results_['mean_test_score']\n",
        "  std_score = results.cv_results_['std_test_score']\n",
        "  params = results.cv_results_['params']\n",
        "  for mean,std,params in zip(mean_score,std_score,params):\n",
        "      print(f'{round(mean,3)} + or -{round(std,3)} for the {params}')"
      ],
      "metadata": {
        "id": "lDZ77yvJyhn8"
      },
      "execution_count": null,
      "outputs": []
    },
    {
      "cell_type": "code",
      "source": [
        "display(cv)"
      ],
      "metadata": {
        "colab": {
          "base_uri": "https://localhost:8080/"
        },
        "id": "j_-BwwQgypUg",
        "outputId": "3e8e2ee2-fdf2-487e-adcb-d8de5b068f17"
      },
      "execution_count": null,
      "outputs": [
        {
          "output_type": "stream",
          "name": "stdout",
          "text": [
            "Best parameters are: {'max_depth': 4, 'n_estimators': 50}\n",
            "\n",
            "\n",
            "0.847 + or -0.023 for the {'max_depth': 2, 'n_estimators': 5}\n",
            "0.856 + or -0.031 for the {'max_depth': 2, 'n_estimators': 10}\n",
            "0.875 + or -0.034 for the {'max_depth': 2, 'n_estimators': 50}\n",
            "0.87 + or -0.028 for the {'max_depth': 2, 'n_estimators': 100}\n",
            "0.873 + or -0.029 for the {'max_depth': 2, 'n_estimators': 250}\n",
            "0.855 + or -0.019 for the {'max_depth': 4, 'n_estimators': 5}\n",
            "0.872 + or -0.03 for the {'max_depth': 4, 'n_estimators': 10}\n",
            "0.876 + or -0.03 for the {'max_depth': 4, 'n_estimators': 50}\n",
            "0.875 + or -0.026 for the {'max_depth': 4, 'n_estimators': 100}\n",
            "0.87 + or -0.027 for the {'max_depth': 4, 'n_estimators': 250}\n",
            "0.87 + or -0.027 for the {'max_depth': 8, 'n_estimators': 5}\n",
            "0.86 + or -0.027 for the {'max_depth': 8, 'n_estimators': 10}\n",
            "0.873 + or -0.028 for the {'max_depth': 8, 'n_estimators': 50}\n",
            "0.873 + or -0.024 for the {'max_depth': 8, 'n_estimators': 100}\n",
            "0.875 + or -0.026 for the {'max_depth': 8, 'n_estimators': 250}\n",
            "0.85 + or -0.021 for the {'max_depth': 16, 'n_estimators': 5}\n",
            "0.863 + or -0.02 for the {'max_depth': 16, 'n_estimators': 10}\n",
            "0.861 + or -0.034 for the {'max_depth': 16, 'n_estimators': 50}\n",
            "0.86 + or -0.033 for the {'max_depth': 16, 'n_estimators': 100}\n",
            "0.864 + or -0.033 for the {'max_depth': 16, 'n_estimators': 250}\n",
            "0.823 + or -0.036 for the {'max_depth': 32, 'n_estimators': 5}\n",
            "0.83 + or -0.016 for the {'max_depth': 32, 'n_estimators': 10}\n",
            "0.845 + or -0.028 for the {'max_depth': 32, 'n_estimators': 50}\n",
            "0.855 + or -0.026 for the {'max_depth': 32, 'n_estimators': 100}\n",
            "0.845 + or -0.026 for the {'max_depth': 32, 'n_estimators': 250}\n",
            "0.836 + or -0.033 for the {'max_depth': None, 'n_estimators': 5}\n",
            "0.85 + or -0.026 for the {'max_depth': None, 'n_estimators': 10}\n",
            "0.849 + or -0.027 for the {'max_depth': None, 'n_estimators': 50}\n",
            "0.845 + or -0.028 for the {'max_depth': None, 'n_estimators': 100}\n",
            "0.842 + or -0.033 for the {'max_depth': None, 'n_estimators': 250}\n"
          ]
        }
      ]
    },
    {
      "cell_type": "code",
      "source": [
        "rfc = RandomForestClassifier(max_depth = 4, n_estimators= 100)\n",
        "rfc.fit(X_train, y_train)"
      ],
      "metadata": {
        "colab": {
          "base_uri": "https://localhost:8080/",
          "height": 75
        },
        "id": "bbfDW2wYy96B",
        "outputId": "c4606c50-20a7-413b-bb8c-84df30d47319"
      },
      "execution_count": null,
      "outputs": [
        {
          "output_type": "execute_result",
          "data": {
            "text/plain": [
              "RandomForestClassifier(max_depth=4)"
            ],
            "text/html": [
              "<style>#sk-container-id-4 {color: black;background-color: white;}#sk-container-id-4 pre{padding: 0;}#sk-container-id-4 div.sk-toggleable {background-color: white;}#sk-container-id-4 label.sk-toggleable__label {cursor: pointer;display: block;width: 100%;margin-bottom: 0;padding: 0.3em;box-sizing: border-box;text-align: center;}#sk-container-id-4 label.sk-toggleable__label-arrow:before {content: \"▸\";float: left;margin-right: 0.25em;color: #696969;}#sk-container-id-4 label.sk-toggleable__label-arrow:hover:before {color: black;}#sk-container-id-4 div.sk-estimator:hover label.sk-toggleable__label-arrow:before {color: black;}#sk-container-id-4 div.sk-toggleable__content {max-height: 0;max-width: 0;overflow: hidden;text-align: left;background-color: #f0f8ff;}#sk-container-id-4 div.sk-toggleable__content pre {margin: 0.2em;color: black;border-radius: 0.25em;background-color: #f0f8ff;}#sk-container-id-4 input.sk-toggleable__control:checked~div.sk-toggleable__content {max-height: 200px;max-width: 100%;overflow: auto;}#sk-container-id-4 input.sk-toggleable__control:checked~label.sk-toggleable__label-arrow:before {content: \"▾\";}#sk-container-id-4 div.sk-estimator input.sk-toggleable__control:checked~label.sk-toggleable__label {background-color: #d4ebff;}#sk-container-id-4 div.sk-label input.sk-toggleable__control:checked~label.sk-toggleable__label {background-color: #d4ebff;}#sk-container-id-4 input.sk-hidden--visually {border: 0;clip: rect(1px 1px 1px 1px);clip: rect(1px, 1px, 1px, 1px);height: 1px;margin: -1px;overflow: hidden;padding: 0;position: absolute;width: 1px;}#sk-container-id-4 div.sk-estimator {font-family: monospace;background-color: #f0f8ff;border: 1px dotted black;border-radius: 0.25em;box-sizing: border-box;margin-bottom: 0.5em;}#sk-container-id-4 div.sk-estimator:hover {background-color: #d4ebff;}#sk-container-id-4 div.sk-parallel-item::after {content: \"\";width: 100%;border-bottom: 1px solid gray;flex-grow: 1;}#sk-container-id-4 div.sk-label:hover label.sk-toggleable__label {background-color: #d4ebff;}#sk-container-id-4 div.sk-serial::before {content: \"\";position: absolute;border-left: 1px solid gray;box-sizing: border-box;top: 0;bottom: 0;left: 50%;z-index: 0;}#sk-container-id-4 div.sk-serial {display: flex;flex-direction: column;align-items: center;background-color: white;padding-right: 0.2em;padding-left: 0.2em;position: relative;}#sk-container-id-4 div.sk-item {position: relative;z-index: 1;}#sk-container-id-4 div.sk-parallel {display: flex;align-items: stretch;justify-content: center;background-color: white;position: relative;}#sk-container-id-4 div.sk-item::before, #sk-container-id-4 div.sk-parallel-item::before {content: \"\";position: absolute;border-left: 1px solid gray;box-sizing: border-box;top: 0;bottom: 0;left: 50%;z-index: -1;}#sk-container-id-4 div.sk-parallel-item {display: flex;flex-direction: column;z-index: 1;position: relative;background-color: white;}#sk-container-id-4 div.sk-parallel-item:first-child::after {align-self: flex-end;width: 50%;}#sk-container-id-4 div.sk-parallel-item:last-child::after {align-self: flex-start;width: 50%;}#sk-container-id-4 div.sk-parallel-item:only-child::after {width: 0;}#sk-container-id-4 div.sk-dashed-wrapped {border: 1px dashed gray;margin: 0 0.4em 0.5em 0.4em;box-sizing: border-box;padding-bottom: 0.4em;background-color: white;}#sk-container-id-4 div.sk-label label {font-family: monospace;font-weight: bold;display: inline-block;line-height: 1.2em;}#sk-container-id-4 div.sk-label-container {text-align: center;}#sk-container-id-4 div.sk-container {/* jupyter's `normalize.less` sets `[hidden] { display: none; }` but bootstrap.min.css set `[hidden] { display: none !important; }` so we also need the `!important` here to be able to override the default hidden behavior on the sphinx rendered scikit-learn.org. See: https://github.com/scikit-learn/scikit-learn/issues/21755 */display: inline-block !important;position: relative;}#sk-container-id-4 div.sk-text-repr-fallback {display: none;}</style><div id=\"sk-container-id-4\" class=\"sk-top-container\"><div class=\"sk-text-repr-fallback\"><pre>RandomForestClassifier(max_depth=4)</pre><b>In a Jupyter environment, please rerun this cell to show the HTML representation or trust the notebook. <br />On GitHub, the HTML representation is unable to render, please try loading this page with nbviewer.org.</b></div><div class=\"sk-container\" hidden><div class=\"sk-item\"><div class=\"sk-estimator sk-toggleable\"><input class=\"sk-toggleable__control sk-hidden--visually\" id=\"sk-estimator-id-6\" type=\"checkbox\" checked><label for=\"sk-estimator-id-6\" class=\"sk-toggleable__label sk-toggleable__label-arrow\">RandomForestClassifier</label><div class=\"sk-toggleable__content\"><pre>RandomForestClassifier(max_depth=4)</pre></div></div></div></div></div>"
            ]
          },
          "metadata": {},
          "execution_count": 31
        }
      ]
    },
    {
      "cell_type": "code",
      "source": [
        "rfc_pred = rfc.predict(X_test)"
      ],
      "metadata": {
        "id": "gkH_avSNzI7o"
      },
      "execution_count": null,
      "outputs": []
    },
    {
      "cell_type": "code",
      "source": [
        "cm = confusion_matrix(y_test, rfc_pred)\n",
        "disp = ConfusionMatrixDisplay(confusion_matrix=cm,\n",
        "                               display_labels=['LGG', 'GBM'])\n",
        "disp.plot()"
      ],
      "metadata": {
        "colab": {
          "base_uri": "https://localhost:8080/",
          "height": 466
        },
        "id": "vwO2oh0WKY_1",
        "outputId": "8d935227-9110-4c27-8fa6-5934ba049899"
      },
      "execution_count": null,
      "outputs": [
        {
          "output_type": "execute_result",
          "data": {
            "text/plain": [
              "<sklearn.metrics._plot.confusion_matrix.ConfusionMatrixDisplay at 0x7b16e097fd60>"
            ]
          },
          "metadata": {},
          "execution_count": 33
        },
        {
          "output_type": "display_data",
          "data": {
            "text/plain": [
              "<Figure size 640x480 with 2 Axes>"
            ],
            "image/png": "[encoded data removed]"
          },
          "metadata": {}
        }
      ]
    },
    {
      "cell_type": "code",
      "source": [
        "roc_auc = roc_auc_score(y_test,rfc_pred)\n",
        "\n",
        "print(roc_auc)"
      ],
      "metadata": {
        "colab": {
          "base_uri": "https://localhost:8080/"
        },
        "id": "eNGWRWruWxoc",
        "outputId": "e7f5a4b4-9d5e-4905-862a-663aa2da5c07"
      },
      "execution_count": null,
      "outputs": [
        {
          "output_type": "stream",
          "name": "stdout",
          "text": [
            "0.8518518518518517\n"
          ]
        }
      ]
    },
    {
      "cell_type": "markdown",
      "source": [
        "Ficou semelhante à RL."
      ],
      "metadata": {
        "id": "yzuoQPIF44cT"
      }
    },
    {
      "cell_type": "markdown",
      "source": [
        "## *FAZER DO TREINO - OVERFITTING"
      ],
      "metadata": {
        "id": "kwO8aLkEXf10"
      }
    },
    {
      "cell_type": "markdown",
      "source": [
        "## CatBoost"
      ],
      "metadata": {
        "id": "7x_ADe6AVGo8"
      }
    },
    {
      "cell_type": "code",
      "source": [
        "pip install catboost"
      ],
      "metadata": {
        "colab": {
          "base_uri": "https://localhost:8080/"
        },
        "id": "HATjDO7xMKDl",
        "outputId": "559bfa16-56a0-4bbc-8847-7c18e6aa48a4"
      },
      "execution_count": null,
      "outputs": [
        {
          "output_type": "stream",
          "name": "stdout",
          "text": [
            "Requirement already satisfied: catboost in /usr/local/lib/python3.10/dist-packages (1.2.2)\n",
            "Requirement already satisfied: graphviz in /usr/local/lib/python3.10/dist-packages (from catboost) (0.20.1)\n",
            "Requirement already satisfied: matplotlib in /usr/local/lib/python3.10/dist-packages (from catboost) (3.7.1)\n",
            "Requirement already satisfied: numpy>=1.16.0 in /usr/local/lib/python3.10/dist-packages (from catboost) (1.23.5)\n",
            "Requirement already satisfied: pandas>=0.24 in /usr/local/lib/python3.10/dist-packages (from catboost) (1.5.3)\n",
            "Requirement already satisfied: scipy in /usr/local/lib/python3.10/dist-packages (from catboost) (1.11.2)\n",
            "Requirement already satisfied: plotly in /usr/local/lib/python3.10/dist-packages (from catboost) (5.15.0)\n",
            "Requirement already satisfied: six in /usr/local/lib/python3.10/dist-packages (from catboost) (1.16.0)\n",
            "Requirement already satisfied: python-dateutil>=2.8.1 in /usr/local/lib/python3.10/dist-packages (from pandas>=0.24->catboost) (2.8.2)\n",
            "Requirement already satisfied: pytz>=2020.1 in /usr/local/lib/python3.10/dist-packages (from pandas>=0.24->catboost) (2023.3.post1)\n",
            "Requirement already satisfied: contourpy>=1.0.1 in /usr/local/lib/python3.10/dist-packages (from matplotlib->catboost) (1.1.0)\n",
            "Requirement already satisfied: cycler>=0.10 in /usr/local/lib/python3.10/dist-packages (from matplotlib->catboost) (0.11.0)\n",
            "Requirement already satisfied: fonttools>=4.22.0 in /usr/local/lib/python3.10/dist-packages (from matplotlib->catboost) (4.42.1)\n",
            "Requirement already satisfied: kiwisolver>=1.0.1 in /usr/local/lib/python3.10/dist-packages (from matplotlib->catboost) (1.4.5)\n",
            "Requirement already satisfied: packaging>=20.0 in /usr/local/lib/python3.10/dist-packages (from matplotlib->catboost) (23.1)\n",
            "Requirement already satisfied: pillow>=6.2.0 in /usr/local/lib/python3.10/dist-packages (from matplotlib->catboost) (9.4.0)\n",
            "Requirement already satisfied: pyparsing>=2.3.1 in /usr/local/lib/python3.10/dist-packages (from matplotlib->catboost) (3.1.1)\n",
            "Requirement already satisfied: tenacity>=6.2.0 in /usr/local/lib/python3.10/dist-packages (from plotly->catboost) (8.2.3)\n"
          ]
        }
      ]
    },
    {
      "cell_type": "code",
      "source": [
        "from catboost import CatBoostClassifier\n",
        "\n",
        "cbc = CatBoostClassifier()\n",
        "cbc.fit(X, y, verbose=10)"
      ],
      "metadata": {
        "colab": {
          "base_uri": "https://localhost:8080/"
        },
        "id": "CN5Nx2CCL9ec",
        "outputId": "f23e4eaf-8da6-4fda-ce94-fdaa78a4d78c"
      },
      "execution_count": null,
      "outputs": [
        {
          "output_type": "stream",
          "name": "stdout",
          "text": [
            "Learning rate set to 0.009558\n",
            "0:\tlearn: 0.6846966\ttotal: 6.76ms\tremaining: 6.75s\n",
            "10:\tlearn: 0.6120603\ttotal: 62.3ms\tremaining: 5.6s\n",
            "20:\tlearn: 0.5538368\ttotal: 107ms\tremaining: 4.99s\n",
            "30:\tlearn: 0.5092529\ttotal: 165ms\tremaining: 5.17s\n",
            "40:\tlearn: 0.4722499\ttotal: 238ms\tremaining: 5.57s\n",
            "50:\tlearn: 0.4435297\ttotal: 269ms\tremaining: 5.01s\n",
            "60:\tlearn: 0.4215579\ttotal: 289ms\tremaining: 4.45s\n",
            "70:\tlearn: 0.4019981\ttotal: 332ms\tremaining: 4.34s\n",
            "80:\tlearn: 0.3851631\ttotal: 356ms\tremaining: 4.04s\n",
            "90:\tlearn: 0.3720434\ttotal: 399ms\tremaining: 3.99s\n",
            "100:\tlearn: 0.3615696\ttotal: 448ms\tremaining: 3.98s\n",
            "110:\tlearn: 0.3519451\ttotal: 486ms\tremaining: 3.89s\n",
            "120:\tlearn: 0.3446904\ttotal: 545ms\tremaining: 3.96s\n",
            "130:\tlearn: 0.3379196\ttotal: 601ms\tremaining: 3.98s\n",
            "140:\tlearn: 0.3320652\ttotal: 647ms\tremaining: 3.94s\n",
            "150:\tlearn: 0.3265463\ttotal: 697ms\tremaining: 3.92s\n",
            "160:\tlearn: 0.3211781\ttotal: 726ms\tremaining: 3.79s\n",
            "170:\tlearn: 0.3167851\ttotal: 779ms\tremaining: 3.78s\n",
            "180:\tlearn: 0.3131220\ttotal: 814ms\tremaining: 3.68s\n",
            "190:\tlearn: 0.3095161\ttotal: 863ms\tremaining: 3.65s\n",
            "200:\tlearn: 0.3071839\ttotal: 898ms\tremaining: 3.57s\n",
            "210:\tlearn: 0.3041356\ttotal: 944ms\tremaining: 3.53s\n",
            "220:\tlearn: 0.3014109\ttotal: 967ms\tremaining: 3.41s\n",
            "230:\tlearn: 0.2986215\ttotal: 1.04s\tremaining: 3.45s\n",
            "240:\tlearn: 0.2964321\ttotal: 1.08s\tremaining: 3.4s\n",
            "250:\tlearn: 0.2944463\ttotal: 1.1s\tremaining: 3.3s\n",
            "260:\tlearn: 0.2914236\ttotal: 1.14s\tremaining: 3.24s\n",
            "270:\tlearn: 0.2896855\ttotal: 1.18s\tremaining: 3.18s\n",
            "280:\tlearn: 0.2875085\ttotal: 1.21s\tremaining: 3.1s\n",
            "290:\tlearn: 0.2857243\ttotal: 1.26s\tremaining: 3.07s\n",
            "300:\tlearn: 0.2837655\ttotal: 1.29s\tremaining: 3.01s\n",
            "310:\tlearn: 0.2819050\ttotal: 1.31s\tremaining: 2.92s\n",
            "320:\tlearn: 0.2804134\ttotal: 1.34s\tremaining: 2.84s\n",
            "330:\tlearn: 0.2788155\ttotal: 1.36s\tremaining: 2.75s\n",
            "340:\tlearn: 0.2773819\ttotal: 1.39s\tremaining: 2.68s\n",
            "350:\tlearn: 0.2757707\ttotal: 1.43s\tremaining: 2.64s\n",
            "360:\tlearn: 0.2745743\ttotal: 1.46s\tremaining: 2.59s\n",
            "370:\tlearn: 0.2731629\ttotal: 1.48s\tremaining: 2.52s\n",
            "380:\tlearn: 0.2715692\ttotal: 1.5s\tremaining: 2.45s\n",
            "390:\tlearn: 0.2702019\ttotal: 1.53s\tremaining: 2.38s\n",
            "400:\tlearn: 0.2687406\ttotal: 1.55s\tremaining: 2.32s\n",
            "410:\tlearn: 0.2674658\ttotal: 1.57s\tremaining: 2.25s\n",
            "420:\tlearn: 0.2660739\ttotal: 1.59s\tremaining: 2.19s\n",
            "430:\tlearn: 0.2646577\ttotal: 1.65s\tremaining: 2.18s\n",
            "440:\tlearn: 0.2635553\ttotal: 1.69s\tremaining: 2.14s\n",
            "450:\tlearn: 0.2622343\ttotal: 1.71s\tremaining: 2.08s\n",
            "460:\tlearn: 0.2611007\ttotal: 1.73s\tremaining: 2.02s\n",
            "470:\tlearn: 0.2601211\ttotal: 1.77s\tremaining: 1.99s\n",
            "480:\tlearn: 0.2585608\ttotal: 1.79s\tremaining: 1.93s\n",
            "490:\tlearn: 0.2575183\ttotal: 1.81s\tremaining: 1.87s\n",
            "500:\tlearn: 0.2563511\ttotal: 1.85s\tremaining: 1.85s\n",
            "510:\tlearn: 0.2549429\ttotal: 1.87s\tremaining: 1.79s\n",
            "520:\tlearn: 0.2539660\ttotal: 1.9s\tremaining: 1.75s\n",
            "530:\tlearn: 0.2528610\ttotal: 1.95s\tremaining: 1.72s\n",
            "540:\tlearn: 0.2514491\ttotal: 1.97s\tremaining: 1.67s\n",
            "550:\tlearn: 0.2504166\ttotal: 1.99s\tremaining: 1.63s\n",
            "560:\tlearn: 0.2491066\ttotal: 2.01s\tremaining: 1.58s\n",
            "570:\tlearn: 0.2480294\ttotal: 2.05s\tremaining: 1.54s\n",
            "580:\tlearn: 0.2469917\ttotal: 2.08s\tremaining: 1.5s\n",
            "590:\tlearn: 0.2457803\ttotal: 2.11s\tremaining: 1.46s\n",
            "600:\tlearn: 0.2447798\ttotal: 2.13s\tremaining: 1.42s\n",
            "610:\tlearn: 0.2437618\ttotal: 2.15s\tremaining: 1.37s\n",
            "620:\tlearn: 0.2426835\ttotal: 2.17s\tremaining: 1.32s\n",
            "630:\tlearn: 0.2415880\ttotal: 2.2s\tremaining: 1.29s\n",
            "640:\tlearn: 0.2404389\ttotal: 2.22s\tremaining: 1.25s\n",
            "650:\tlearn: 0.2394723\ttotal: 2.24s\tremaining: 1.2s\n",
            "660:\tlearn: 0.2385193\ttotal: 2.26s\tremaining: 1.16s\n",
            "670:\tlearn: 0.2376456\ttotal: 2.29s\tremaining: 1.12s\n",
            "680:\tlearn: 0.2367505\ttotal: 2.31s\tremaining: 1.08s\n",
            "690:\tlearn: 0.2359915\ttotal: 2.34s\tremaining: 1.05s\n",
            "700:\tlearn: 0.2351672\ttotal: 2.36s\tremaining: 1.01s\n",
            "710:\tlearn: 0.2342542\ttotal: 2.38s\tremaining: 968ms\n",
            "720:\tlearn: 0.2333828\ttotal: 2.4s\tremaining: 930ms\n",
            "730:\tlearn: 0.2322831\ttotal: 2.44s\tremaining: 899ms\n",
            "740:\tlearn: 0.2313820\ttotal: 2.49s\tremaining: 872ms\n",
            "750:\tlearn: 0.2302958\ttotal: 2.57s\tremaining: 851ms\n",
            "760:\tlearn: 0.2290322\ttotal: 2.64s\tremaining: 828ms\n",
            "770:\tlearn: 0.2282058\ttotal: 2.71s\tremaining: 807ms\n",
            "780:\tlearn: 0.2273102\ttotal: 2.77s\tremaining: 775ms\n",
            "790:\tlearn: 0.2262977\ttotal: 2.82s\tremaining: 745ms\n",
            "800:\tlearn: 0.2254007\ttotal: 2.87s\tremaining: 712ms\n",
            "810:\tlearn: 0.2244366\ttotal: 2.9s\tremaining: 676ms\n",
            "820:\tlearn: 0.2235158\ttotal: 2.93s\tremaining: 639ms\n",
            "830:\tlearn: 0.2226204\ttotal: 2.95s\tremaining: 600ms\n",
            "840:\tlearn: 0.2217648\ttotal: 2.97s\tremaining: 562ms\n",
            "850:\tlearn: 0.2209125\ttotal: 2.99s\tremaining: 524ms\n",
            "860:\tlearn: 0.2199221\ttotal: 3.01s\tremaining: 486ms\n",
            "870:\tlearn: 0.2188572\ttotal: 3.03s\tremaining: 449ms\n",
            "880:\tlearn: 0.2178033\ttotal: 3.08s\tremaining: 416ms\n",
            "890:\tlearn: 0.2167987\ttotal: 3.12s\tremaining: 382ms\n",
            "900:\tlearn: 0.2159096\ttotal: 3.18s\tremaining: 350ms\n",
            "910:\tlearn: 0.2150488\ttotal: 3.2s\tremaining: 313ms\n",
            "920:\tlearn: 0.2142618\ttotal: 3.22s\tremaining: 276ms\n",
            "930:\tlearn: 0.2134037\ttotal: 3.25s\tremaining: 241ms\n",
            "940:\tlearn: 0.2127205\ttotal: 3.27s\tremaining: 205ms\n",
            "950:\tlearn: 0.2117091\ttotal: 3.29s\tremaining: 170ms\n",
            "960:\tlearn: 0.2107841\ttotal: 3.31s\tremaining: 134ms\n",
            "970:\tlearn: 0.2097317\ttotal: 3.33s\tremaining: 99.5ms\n",
            "980:\tlearn: 0.2088778\ttotal: 3.35s\tremaining: 64.9ms\n",
            "990:\tlearn: 0.2078626\ttotal: 3.38s\tremaining: 30.7ms\n",
            "999:\tlearn: 0.2071438\ttotal: 3.41s\tremaining: 0us\n"
          ]
        },
        {
          "output_type": "execute_result",
          "data": {
            "text/plain": [
              "<catboost.core.CatBoostClassifier at 0x7b16bdf2c790>"
            ]
          },
          "metadata": {},
          "execution_count": 43
        }
      ]
    },
    {
      "cell_type": "code",
      "source": [
        "cbc.predict_proba(X)"
      ],
      "metadata": {
        "colab": {
          "base_uri": "https://localhost:8080/"
        },
        "id": "0e7sZ8NZX_w6",
        "outputId": "d8198566-8e42-48fa-b3c9-c8f353d2fcc9"
      },
      "execution_count": null,
      "outputs": [
        {
          "output_type": "execute_result",
          "data": {
            "text/plain": [
              "array([[0.97320843, 0.02679157],\n",
              "       [0.99124119, 0.00875881],\n",
              "       [0.93471612, 0.06528388],\n",
              "       ...,\n",
              "       [0.00698641, 0.99301359],\n",
              "       [0.07508723, 0.92491277],\n",
              "       [0.04725715, 0.95274285]])"
            ]
          },
          "metadata": {},
          "execution_count": 44
        }
      ]
    },
    {
      "cell_type": "markdown",
      "source": [
        "primeiro objeto: probabilidade de ser 0;\n",
        "segundo objeto: probabilidade de ser 1;"
      ],
      "metadata": {
        "id": "HIElUK4dm3P5"
      }
    },
    {
      "cell_type": "code",
      "source": [
        "cbc_pred = cbc.predict(X_test)"
      ],
      "metadata": {
        "id": "2VZMh-ynNmgY"
      },
      "execution_count": null,
      "outputs": []
    },
    {
      "cell_type": "code",
      "source": [
        "cm = confusion_matrix(y_test, cbc_pred)\n",
        "disp = ConfusionMatrixDisplay(confusion_matrix=cm,\n",
        "                               display_labels=['LGG', 'GBM'])\n",
        "disp.plot()"
      ],
      "metadata": {
        "colab": {
          "base_uri": "https://localhost:8080/",
          "height": 466
        },
        "id": "C_-BH8djNcvQ",
        "outputId": "528247ce-c8de-4b44-c689-b863a48abea2"
      },
      "execution_count": null,
      "outputs": [
        {
          "output_type": "execute_result",
          "data": {
            "text/plain": [
              "<sklearn.metrics._plot.confusion_matrix.ConfusionMatrixDisplay at 0x7b16cf7fcc40>"
            ]
          },
          "metadata": {},
          "execution_count": 39
        },
        {
          "output_type": "display_data",
          "data": {
            "text/plain": [
              "<Figure size 640x480 with 2 Axes>"
            ],
            "image/png": "[encoded data removed]"
          },
          "metadata": {}
        }
      ]
    },
    {
      "cell_type": "code",
      "source": [
        "roc_auc = roc_auc_score(y_test,cbc_pred)\n",
        "\n",
        "print(roc_auc)"
      ],
      "metadata": {
        "colab": {
          "base_uri": "https://localhost:8080/"
        },
        "id": "sd9t39cVvbLt",
        "outputId": "35d2ad4f-535d-4737-9eab-fbd799e18f44"
      },
      "execution_count": null,
      "outputs": [
        {
          "output_type": "stream",
          "name": "stdout",
          "text": [
            "0.9092592592592593\n"
          ]
        }
      ]
    },
    {
      "cell_type": "markdown",
      "source": [
        "Levemente melhor que a RL."
      ],
      "metadata": {
        "id": "PSbOY1C4OOxP"
      }
    },
    {
      "cell_type": "markdown",
      "source": [
        "ROC AUC dados teste:"
      ],
      "metadata": {
        "id": "nw1x6jAz8efh"
      }
    },
    {
      "cell_type": "code",
      "source": [
        "#retorna a pontuação (score) do modelo otimizado pela busca de hiperparâmetros, quando avaliado nos dados de teste (X_test e y_test).\n",
        "#roc_auc_test = opt.score(X_test, y_test)\n",
        "\n",
        "#print(\"Pontuação ROC AUC nos dados de teste:\", roc_auc_test)"
      ],
      "metadata": {
        "id": "wV5f4NmXvctU"
      },
      "execution_count": null,
      "outputs": []
    },
    {
      "cell_type": "code",
      "source": [
        "#from xgboost import plot_importance\n",
        "\n",
        "#xgboost_step = opt.best_estimator_.steps[0]\n",
        "#xgboost_model = xgboost_step[1]\n",
        "#plot_importance(xgboost_model)"
      ],
      "metadata": {
        "id": "xloRiDQcv_W6"
      },
      "execution_count": null,
      "outputs": []
    },
    {
      "cell_type": "code",
      "source": [],
      "metadata": {
        "id": "EKSFbuVWwBaM"
      },
      "execution_count": null,
      "outputs": []
    }
  ]
}